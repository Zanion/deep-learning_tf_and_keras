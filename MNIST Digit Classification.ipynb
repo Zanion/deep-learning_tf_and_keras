{
 "cells": [
  {
   "cell_type": "markdown",
   "metadata": {
    "slideshow": {
     "slide_type": "slide"
    }
   },
   "source": [
    "# MNIST digits classification with TensorFlow"
   ]
  },
  {
   "cell_type": "markdown",
   "metadata": {},
   "source": [
    "<img src=\"images/mnist_sample.png\" style=\"width:30%\">"
   ]
  },
  {
   "cell_type": "code",
   "execution_count": 8,
   "metadata": {},
   "outputs": [],
   "source": [
    "import numpy as np\n",
    "from sklearn.metrics import accuracy_score\n",
    "from matplotlib import pyplot as plt\n",
    "%matplotlib inline\n",
    "import tensorflow as tf\n",
    "import sys\n",
    "\n",
    "import matplotlib_utils\n",
    "from importlib import reload\n",
    "reload(matplotlib_utils)\n",
    "import keras\n",
    "import keras_utils\n",
    "from keras_utils import reset_tf_session"
   ]
  },
  {
   "cell_type": "markdown",
   "metadata": {},
   "source": [
    "# Examine the data\n",
    "\n",
    "We have 50000 28x28 images of digits from 0 to 9 sourced from MNIST.\n",
    "We will train a classifier on this data."
   ]
  },
  {
   "cell_type": "code",
   "execution_count": 2,
   "metadata": {},
   "outputs": [],
   "source": [
    "import preprocessed_mnist\n",
    "X_train, y_train, X_val, y_val, X_test, y_test = preprocessed_mnist.load_dataset()"
   ]
  },
  {
   "cell_type": "code",
   "execution_count": 3,
   "metadata": {},
   "outputs": [
    {
     "name": "stdout",
     "output_type": "stream",
     "text": [
      "X_train [shape (50000, 28, 28)] sample patch:\n",
      " [[0.         0.29803922 0.96470588 0.98823529 0.43921569]\n",
      " [0.         0.33333333 0.98823529 0.90196078 0.09803922]\n",
      " [0.         0.33333333 0.98823529 0.8745098  0.        ]\n",
      " [0.         0.33333333 0.98823529 0.56862745 0.        ]\n",
      " [0.         0.3372549  0.99215686 0.88235294 0.        ]]\n",
      "A cross-section of a sample patch:\n"
     ]
    },
    {
     "data": {
      "image/png": "[encoded data removed]",
      "text/plain": [
       "<Figure size 432x288 with 1 Axes>"
      ]
     },
     "metadata": {
      "needs_background": "light"
     },
     "output_type": "display_data"
    },
    {
     "name": "stdout",
     "output_type": "stream",
     "text": [
      "An entire sample:\n"
     ]
    },
    {
     "data": {
      "image/png": "[encoded data removed]",
      "text/plain": [
       "<Figure size 432x288 with 1 Axes>"
      ]
     },
     "metadata": {
      "needs_background": "light"
     },
     "output_type": "display_data"
    },
    {
     "name": "stdout",
     "output_type": "stream",
     "text": [
      "y_train [shape (50000,)] 10 samples:\n",
      " [5 0 4 1 9 2 1 3 1 4]\n"
     ]
    }
   ],
   "source": [
    "# X contains rgb values divided by 255\n",
    "print(\"X_train [shape %s] sample patch:\\n\" % (str(X_train.shape)), X_train[1, 15:20, 5:10])\n",
    "print(\"A cross-section of a sample patch:\")\n",
    "plt.imshow(X_train[1, 15:20, 5:10], cmap=\"Greys\")\n",
    "plt.show()\n",
    "\n",
    "print(\"An entire sample:\")\n",
    "plt.imshow(X_train[1], cmap=\"Greys\")\n",
    "plt.show()\n",
    "\n",
    "print(\"y_train [shape %s] 10 samples:\\n\" % (str(y_train.shape)), y_train[:10])"
   ]
  },
  {
   "cell_type": "markdown",
   "metadata": {},
   "source": [
    "# Linear model\n",
    "\n",
    "The task is to train a linear classifier $\\vec{x} \\rightarrow y$ with SGD using TensorFlow.\n",
    "\n",
    "Will need to first calculate a logit (a linear transformation) $z_k$ for each class: \n",
    "$$z_k = \\vec{x} \\cdot \\vec{w_k} + b_k \\quad k = 0..9$$\n",
    "\n",
    "And transform logits $z_k$ to valid probabilities $p_k$ with softmax: \n",
    "$$p_k = \\frac{e^{z_k}}{\\sum_{i=0}^{9}{e^{z_i}}} \\quad k = 0..9$$\n",
    "\n",
    "Use cross-entropy loss to train our multi-class classifier:\n",
    "$$\\text{cross-entropy}(y, p) = -\\sum_{k=0}^{9}{\\log(p_k)[y = k]}$$ \n",
    "\n",
    "where \n",
    "$$\n",
    "[x]=\\begin{cases}\n",
    "       1, \\quad \\text{if $x$ is true} \\\\\n",
    "       0, \\quad \\text{otherwise}\n",
    "    \\end{cases}\n",
    "$$\n",
    "\n",
    "Cross-entropy minimization pushes $p_k$ close to 1 when $y = k$, which is what we want.\n",
    "\n",
    "Here's the plan:\n",
    "* Flatten the images (28x28 -> 784) with `X_train.reshape((X_train.shape[0], -1))` to simplify our linear model implementation\n",
    "* Use a matrix placeholder for flattened `X_train`\n",
    "* Convert `y_train` to one-hot encoded vectors that are needed for cross-entropy\n",
    "* Use a shared variable `W` for all weights (a column $\\vec{w_k}$ per class) and `b` for all biases.\n",
    "* Aim for ~0.93 validation accuracy"
   ]
  },
  {
   "cell_type": "code",
   "execution_count": 4,
   "metadata": {},
   "outputs": [
    {
     "name": "stdout",
     "output_type": "stream",
     "text": [
      "(50000, 784)\n",
      "(10000, 784)\n"
     ]
    }
   ],
   "source": [
    "# Flatten the images (28x28 -> 784) to simplify linear model\n",
    "X_train_flat = X_train.reshape((X_train.shape[0], -1))\n",
    "print(X_train_flat.shape)\n",
    "\n",
    "X_val_flat = X_val.reshape((X_val.shape[0], -1))\n",
    "print(X_val_flat.shape)"
   ]
  },
  {
   "cell_type": "code",
   "execution_count": 5,
   "metadata": {},
   "outputs": [
    {
     "name": "stdout",
     "output_type": "stream",
     "text": [
      "(50000, 10)\n",
      "[[0. 0. 0. 0. 0. 1. 0. 0. 0. 0.]\n",
      " [1. 0. 0. 0. 0. 0. 0. 0. 0. 0.]\n",
      " [0. 0. 0. 0. 1. 0. 0. 0. 0. 0.]] [5 0 4]\n"
     ]
    }
   ],
   "source": [
    "# Convert y_train to one-hot encoded vectors for cross-entropy\n",
    "y_train_oh = keras.utils.to_categorical(y_train, 10)\n",
    "y_val_oh = keras.utils.to_categorical(y_val, 10)\n",
    "\n",
    "print(y_train_oh.shape)\n",
    "print(y_train_oh[:3], y_train[:3])"
   ]
  },
  {
   "cell_type": "code",
   "execution_count": 6,
   "metadata": {},
   "outputs": [],
   "source": [
    "# Re-run this as required to rebuild the graph\n",
    "s = reset_tf_session()"
   ]
  },
  {
   "cell_type": "code",
   "execution_count": 7,
   "metadata": {},
   "outputs": [
    {
     "name": "stdout",
     "output_type": "stream",
     "text": [
      "WARNING:tensorflow:From /home/zanion/.local/lib/python3.5/site-packages/tensorflow/python/framework/op_def_library.py:263: colocate_with (from tensorflow.python.framework.ops) is deprecated and will be removed in a future version.\n",
      "Instructions for updating:\n",
      "Colocations handled automatically by placer.\n"
     ]
    }
   ],
   "source": [
    "# Initialize Weights and bias'\n",
    "W = tf.get_variable(\"W\", shape=(784, 10), dtype=tf.float32) # shape[0] = 784\n",
    "b = tf.get_variable(\"b\", shape=(10,), dtype=tf.float32)"
   ]
  },
  {
   "cell_type": "code",
   "execution_count": 8,
   "metadata": {},
   "outputs": [],
   "source": [
    "# Placeholders for the input data\n",
    "input_X = tf.placeholder(\"float32\", shape=(None,784))\n",
    "input_y = tf.placeholder(\"float32\", shape=(None,10))# tf.placeholder(...) for one-hot encoded true labels"
   ]
  },
  {
   "cell_type": "code",
   "execution_count": 9,
   "metadata": {},
   "outputs": [
    {
     "name": "stdout",
     "output_type": "stream",
     "text": [
      "WARNING:tensorflow:From <ipython-input-9-80a617c8b9c5>:11: softmax_cross_entropy_with_logits (from tensorflow.python.ops.nn_ops) is deprecated and will be removed in a future version.\n",
      "Instructions for updating:\n",
      "\n",
      "Future major versions of TensorFlow will allow gradients to flow\n",
      "into the labels input on backprop by default.\n",
      "\n",
      "See `tf.nn.softmax_cross_entropy_with_logits_v2`.\n",
      "\n"
     ]
    }
   ],
   "source": [
    "# Compute predictions\n",
    "# Resulting shape should be [input_X.shape[0], 10]\n",
    "logits = input_X @ W + b\n",
    "probas = tf.nn.softmax(logits)\n",
    "# apply tf.argmax to find a class index with highest probability\n",
    "classes = tf.argmax(probas, axis=1)\n",
    "\n",
    "# Average loss over all the objects with tf.reduce_mean() to produce scalar\n",
    "# Use tf.nn.softmax_cross_entropy_with_logits on top of one-hot encoded input_y and logits.\n",
    "# It is identical to calculating cross-entropy on top of probas, but is more numerically friendly (read the docs).\n",
    "loss = tf.reduce_mean(tf.nn.softmax_cross_entropy_with_logits(logits=logits, labels=input_y))\n",
    "\n",
    "# Use a default tf.train.AdamOptimizer to get an SGD step\n",
    "step = tf.train.AdamOptimizer().minimize(loss)"
   ]
  },
  {
   "cell_type": "code",
   "execution_count": 10,
   "metadata": {
    "scrolled": false
   },
   "outputs": [
    {
     "data": {
      "text/html": [
       "<img src=\"data:image/jpeg;base64,/9j/4AAQSkZJRgABAQEASABIAAD/2wBDAAIBAQEBAQIBAQECAgICAgQDAgICAgUEBAMEBgUGBgYFBgYGBwkIBgcJBwYGCAsICQoKCgoKBggLDAsKDAkKCgr/2wBDAQICAgICAgUDAwUKBwYHCgoKCgoKCgoKCgoKCgoKCgoKCgoKCgoKCgoKCgoKCgoKCgoKCgoKCgoKCgoKCgoKCgr/wAARCAEgA2ADASIAAhEBAxEB/8QAHwAAAQUBAQEBAQEAAAAAAAAAAAECAwQFBgcICQoL/8QAtRAAAgEDAwIEAwUFBAQAAAF9AQIDAAQRBRIhMUEGE1FhByJxFDKBkaEII0KxwRVS0fAkM2JyggkKFhcYGRolJicoKSo0NTY3ODk6Q0RFRkdISUpTVFVWV1hZWmNkZWZnaGlqc3R1dnd4eXqDhIWGh4iJipKTlJWWl5iZmqKjpKWmp6ipqrKztLW2t7i5usLDxMXGx8jJytLT1NXW19jZ2uHi4%2BTl5ufo6erx8vP09fb3%2BPn6/8QAHwEAAwEBAQEBAQEBAQAAAAAAAAECAwQFBgcICQoL/8QAtREAAgECBAQDBAcFBAQAAQJ3AAECAxEEBSExBhJBUQdhcRMiMoEIFEKRobHBCSMzUvAVYnLRChYkNOEl8RcYGRomJygpKjU2Nzg5OkNERUZHSElKU1RVVldYWVpjZGVmZ2hpanN0dXZ3eHl6goOEhYaHiImKkpOUlZaXmJmaoqOkpaanqKmqsrO0tba3uLm6wsPExcbHyMnK0tPU1dbX2Nna4uPk5ebn6Onq8vP09fb3%2BPn6/9oADAMBAAIRAxEAPwD9/KKKKACiiigAooooAKKKKACiiigAooooAKKKKACiiigAooooAKKKKACiiigAooooAKKKKACiiigAooooAKKKKACiiigAooooAKKKKACiiigAooooAKKKKACiiigAooooAKKKKACiiigAooooAKKKKACiiigAooooAKKKKACiiigAooooAKKKKACiiigAooooAKKKKACiiigAooooAKKKKACiiigAooooAKKKKACiiigAooooAKKKKACiiigAooooAKKKKACiiigAooooAKKKKACiiigAooooAKKKKACiiigAooooAKKKKACiiigAooooAKKKKACiiigAooooAKKKKACiiigAooooAKKKKACvPfjt%2B1J8FP2b5NGsfil4g1Maj4ilnTQNB8OeF9R1zVNR8lVed4bHTbee5kjiVkMkixlI96biu5c%2BhV4N%2B0P8D/j5/wANJ%2BDv2tv2bLLwfrWueH/B2seFNX8KeOdcutLtLywv7mwuxcQXtraXj288U2noCpt3WVJSCUKK1ABpf/BTL9izWLvxPb2nxXv0h8FWsk/jLUrvwXrEFjoIS0iu9l5dy2iwWsrQzRskMjrJIWKorMrKL2n/APBQ/wDZK1HwBrXxFTx/q9vB4f1ay0vVdE1DwNrNrrkV5ebfscC6PNaLqEr3AYGER27eaAxTcFYjy2b9gH4y%2BMf2a/jn8NfGHinwppHin4o/FS38daHc6U1xeWFpeW0OiywQ3IkihkkiN3pRRwoyYHGDuJVaPi79i/8AaV%2BLmr/Ef45fG34S/CjWvFnjWx8KaPp/gKy%2BI2s2Wm6fY6Hcaldw3qa7b6al5DqDXOqTOksVoPJSKNFZiWcgHsviH9vv9mzwv4a8OeI9XvvG3meK0v5NE8P2vwm8SXGuSRWUscV3NJpMWntf28MLzQq8s0CIpmiy37xM%2Bmaz8RPBHhv4e3XxX8T%2BJbbSvDljo76rf6vqrfZYbSySIzPPMZdvlKsYLNvxtAOcYNfGHin9hH9s/WPgX4X8Nay3hfxV470a58RHRfGV/wDHbxNpGr%2BCLW%2BuUktLO11q1sJLzXIYkjhEy3qw/aTbReYCFGPUfjR/wTotfj1%2Bzb4n%2BHHxD%2BOfjW78d%2BMPhfH4Z17xS3jbWho818tpDE2oJoS3y2FuzzQLK3kRRSEPIBIrSM5AOkg/4KUfsZf8K58V/FbWPite6Jo3giysr7xQ/ifwdq%2Bk3NlZXkxhtb37LeWsVxJaSyK6pcxxtC3luQ%2BEYjj/AI3f8FZP2d/hn8ENU%2BMfgPRfFXiqbQfiD4X8L674Y/4QXXbHU7A6zqVrax3T2cmnNdeV5Fw88DeT5d48aW8MhknjB8r1T/gmJ8ZPHfwq8faR4i8DeG9G8Y%2BI9D0fR7DxDqv7RfjPxut3aWusW%2BoTRyf27AfsEZ8likUSzHe%2BGkxknv8A9qH9gz40/GD4g/F/4g%2BBfEPheOTxfB8LbzwlZ6tfXMSvf%2BE/EdzrUsN40dvJ5ENwGt4VljEzrl2MfyKrgHqFh/wUE/Zb1H4m2XwZh8T%2BJo/Fd5oun6xLoF38N9egudO0%2B9adILu/SSyU6dDut5VeS68pYiFEhQum6j4a/wCCmH7FPi3wZ4s%2BIWkfGC4TR/Bfgi68Zaxe6h4S1W0Fx4et0Z5tWsVntUbVLNVQ4nsxPGxZArEugbB0P9kP4ofEP4mfG74g/G9fD2gxfGj4O%2BHfCF1Y%2BE9duNRl0u4tE11Ltlnns7XzYwNViMT7FZikm6OPA3fN37Y37Kn7UOj/ALDHxS%2BJv7TF34AtIfhD%2BxT8QfBHhePwFqF5cNrzXukWxn1G6W5toBYqE0i3CWcbXAVppCZ22oKAPrPw9/wUl/Yy8TaHrHiPT/i1dQWehppU1/JqnhLVbJmtNSu1s7HUIUuLVGubCWdgovoQ9qoDO0qorMPT9E%2BLvw88R/FLX/gvofiH7T4k8LaXp%2Boa/YR2k22zgvmuBa7pinlF3%2ByzHy1cyKoRmVVkjLfJOofsz%2BIPFegeKfjb/wAFIvF/wz8J%2BBbf9nu5%2BHUlx4f8QTLay6beyQyXmq3k17BbpYOTBbCG2QzCAmT/AEiQsuOw/wCCPngP4u2f7I9r8f8A9pDUDf8AxJ%2BL15H4n8V6g9nJbtJCLSCy01fKl%2BeH/iX2lpI0TYKSzTZAYtkA%2BqqKKKACiiigAooooAKKKKACiiigAooooAKKKKACiiigAooooAKKKKACiiigAooooAKKKKACiiigAooooAKKKKACiiigAooooAK8R0j/AIKMfse6ld69Z6n8Urzw83hzw5c%2BINQk8a%2BEdV0GObSbd0jnv7WTUrWBb63R5IlaW2MqAyxjOXXPtN7FczWcsNndCCZ4mWKYx7/LYjhtp64POO9fmJq//BHL9uX4v6t4X1z43fHHQ31vw14P1Cz1DxRqHxW8TeJx4h1v7ZpV9a6idLvoobLSbaS50xfPsLIBRHJtWWQKgUA%2B2X/b/wD2YbX4aN8WNY8QeKtK0ttcg0axs9c%2BGWv2GqanfzIZIYLLTbixS9v2kQM6/Z4ZAyo7AkIxHReA/wBqz4H/ABH1%2By8J%2BHPEOqQ6vf8AhSfxJDpGteFdS0y7TTYbv7JLLLDeW8UkDrP8hhkVZe%2BzbzXk3xO%2BDn7bvxib4e/G3XPBvwq0P4h/Cjx1NrHh/wAM2vjjUr/Rdcs7jSbvTLmO4vn0qGaxmKXskkbpa3AjMQU%2BYJGxV%2BJPwG/bg1/4y%2BHf2mvA%2BjfCu08WX3ww1XwX4x0LUvFepSWGkLcX8N1a39lcJpwk1AxCN1kt5YrQSlxiWLHIB3Gk/wDBRv8AZA8R694F8LeFfiNqus6n8SfBuleLfBunaJ4H1m9nvND1F9lrqMiQWjNa2%2B7HmSTiNbcMpm8oMCdj4a/tufs3fFf4jXPwn8M%2BL9Ws9ft9LudThsvE/gzVtEW/sbeRI57uyl1G1gjv4I3liDy2zSIvmISQGUnyj9hT9hL4sfsw6/8ADjWfHniDw1dnwd%2Byl4R%2BGN%2B%2BkXM8rNq2lvM1zNF5kEe61bemxmKu235o0wK8a%2BGn/BKv9sbxP8UfC/ib9qb4w2eqRaf4A8V%2BF/GniaD4v%2BJNavPEUur2KW39p2umX0Men6EcqWNpaKUXKgTOI1WgD6l8J/8ABRf9kfxrosfirQfHeuf2Hcarpen6f4lvfh/rdrpWoy6lex2VlJaX09mlteQS3M0UYuIJHhBlQs4VgT6X4W%2BLvw88a/EDxT8LvC/iH7XrnguSzj8T2iWkwWxkuoPtEEZlZBG7tCVkKIzMiyRlgokTd8w%2BOPAnxF8K/wDBPbxp8CP%2BChnif4VeCPAWg/DSLQLb4meHfFt2GadI0trXUntLqzgTTZlmFvJDBHcXTGcoiOTtDdr/AMEr/h98WPDf7ImlfFX9oqwS3%2BJ3xYvpfHXxEhW3aL7Pf36xmG02N8yfZbGOys9pyQLXBoA%2BjaKKKACiiigAooooAKKKKACiiigAooooAKKKKACiiigAooooAKKKKACiiigAooooAKKKKACiiigAooooAKKKKACiiigAooooAKKKKACvF/j14/8A2i/%2BGi/AvwI%2BAvjPwV4fTX/BXiXXtX1Pxf4Lu9aJOnXeh28MMMdvqVj5Yb%2B1JWZmZ8%2BWgAXkn2ivCviLrSWX/BSr4Q6LIo/034J/ENkbvuj1bwacfkzH8KTaW5cISqO0ezf3asv/APCD/wDBQv8A6Og%2BDP8A4YfVv/moo/4Qf/goX/0dB8Gf/DD6t/8ANRXs1FMg8Z/4Qf8A4KF/9HQfBn/ww%2Brf/NRR/wAIP/wUL/6Og%2BDP/hh9W/8Amor2aigDxn/hB/8AgoX/ANHQfBn/AMMPq3/zUUf8IP8A8FC/%2BjoPgz/4YfVv/mor2aigDxn/AIQf/goX/wBHQfBn/wAMPq3/AM1FH/CD/wDBQv8A6Og%2BDP8A4YfVv/mor2aigDxn/hB/%2BChf/R0HwZ/8MPq3/wA1FH/CD/8ABQv/AKOg%2BDP/AIYfVv8A5qK9mooA8Z/4Qf8A4KF/9HQfBn/ww%2Brf/NRR/wAIP/wUL/6Og%2BDP/hh9W/8Amor2aigDxn/hB/8AgoX/ANHQfBn/AMMPq3/zUUf8IP8A8FC/%2BjoPgz/4YfVv/mor2aigDxn/AIQf/goX/wBHQfBn/wAMPq3/AM1FH/CD/wDBQv8A6Og%2BDP8A4YfVv/moq1r/AMb/ANkT4U2mkaT8dPjD8OfDmuahosGoG28XeIbC0u7iOTI8/bcOrsjOkgDdMowzwQM3/hr/AP4Jwf8AR0XwR/8AC20f/wCO1zTxmDpycZ1Ypro5RT%2B5yTPaw/DfEmLoRrUMDXnCSupRo1pRa7qUaMotaPVNrTcsf8IP/wAFC/8Ao6D4M/8Ahh9W/wDmoo/4Qf8A4KF/9HQfBn/ww%2Brf/NRVf/hr/wD4Jwf9HRfBH/wttH/%2BO16doGi/CzxXoVl4p8LaT4f1LTNStI7rTtR0%2BCCaC6gkUPHLHIgKujKQyspIIIIODV0sTh67apzjK3aSf5NnPjsmznK4RnjcLVpKTsnUp1Kab3snOnBN21sm3bW1tTzn/hB/%2BChf/R0HwZ/8MPq3/wA1FH/CD/8ABQv/AKOg%2BDP/AIYfVv8A5qK88%2BH3/BRr9i/xf4Hs/GHiH4e%2BJ9Bn1TxxrXhbRNGufg9rc95q17p1xfxyLaRQ6ez3RMOnzzssSuYQDHJskVlHZfEL9qj9lrwLZePbS80SLT9Y8BeENa8Q3lt4s8CatpNnd2emL/pc9vdSac4vbeJmiEktkl0VE0bBH3or7Hmmj/wg/wDwUL/6Og%2BDP/hh9W/%2Baij/AIQf/goX/wBHQfBn/wAMPq3/AM1FVbD9qz9jDUPjPJ%2Bz9DeW/wDwlFv4gj0G6j/4Qa/FhDqr6dHqUdi2oNaC0Wd7SVJkjMoZwcKCwKjZ%2BNfxV%2BCvwk/Z5139ofR/COjeKNO0uwaTTbfQ1tpBqt00oggtYpgCgaS4ZIdxO1WYluhoAof8IP8A8FC/%2BjoPgz/4YfVv/moo/wCEH/4KF/8AR0HwZ/8ADD6t/wDNRT/2cPiBbfFy88ZeB/ij8CvDfhXxh4D8QQ6Zr%2BlaPqK6rYyLPY217b3NtdSWls8sbxXKqd8EbLLFKuGUK7%2BSfEz9tHxD8BvDPxPl%2BOX7IfgjTvEHgD4WDx3ZaboXjoX1ndWRnngEF5dSaXA1hNvgblYbiNlWQo7%2BUwoA9Y/4Qf8A4KF/9HQfBn/ww%2Brf/NRR/wAIP/wUL/6Og%2BDP/hh9W/8AmoryX4ofty%2BHPhf8Bvh/8Yr7wL%2Bz5er8QPiI/hm11y1%2BNaf8InYxLpuo332qXWzo/wB4tp7QeULbHmTIPM6iun/ac%2BOXxW%2BA3wq8O/Ffwb%2Byr8KPF1rrJ0KwltI/iTPbSz6xql7BZw2tgU0OZLyDzbmIrcu0BZNztFGFJoA7P/hB/wDgoX/0dB8Gf/DD6t/81FH/AAg//BQv/o6D4M/%2BGH1b/wCaivM9M/bk8Cap%2B3E37G0HwK8Ieevii40R4R4li/4SOBItIOpf2xLo32P93o7kC2S9%2B0ndNLEvl5fAvfBv9pjxP8Z/GPxI%2BDfhT9nv4P6n43%2BH1vYNcJ4b%2BJ76loKXU9zcQT6ZfaimjLLYahAtq8j2v2WU7ZIcsm8lQDvv%2BEH/AOChf/R0HwZ/8MPq3/zUUf8ACD/8FC/%2BjoPgz/4YfVv/AJqK8b8E/tueNPHfhjw9baT%2Bx18PY/FXinxd4t0zRLa6%2BIrRaHc2Hh6Zre7vl1F9HEpMsyOIYvsmHiRpjIsYJFnw7/wUS%2BBvxV8VfDXwz8FfAvw1Y%2BP/AAP4f8Vn/hYPji20CYWesNKLW00%2BFbS5bU78LbXLPAvlIu2LMv75cAHrf/CD/wDBQv8A6Og%2BDP8A4YfVv/moo/4Qf/goX/0dB8Gf/DD6t/8ANRXLJ%2B0fptj%2B2Sn7Ius/Br4b3d7f6bf3%2BnL4W8arqOr6fbQRpJFcavprafF/ZkE%2B8IkomnBkeNBndkYvh/8Aa3vJvgBrnxB8YfsoeGLDxvp3xWT4fad4M07xMt3Z3uqy39vZwO2oNYRNFBm4Esri3do44pCizEKrAHof/CD/APBQv/o6D4M/%2BGH1b/5qKP8AhB/%2BChf/AEdB8Gf/AAw%2Brf8AzUV498bP%2BChPg74H/sf%2BMfjxrf7Lek6h4/8ABN94gsNT%2BGenaxE0c1xo1vNe30seoNaA/ZBYQ/alne3QkTQxGNZpVjr0341/FfxD8EPij4c0/Xv2Z/B914E8SeL9L8M2fiG28TD%2B2De3x2I6aWbDy5II5D%2B8b7WJFjSWXyysfIBqf8IP/wAFC/8Ao6D4M/8Ahh9W/wDmoo/4Qf8A4KF/9HQfBn/ww%2Brf/NRXnPir9uP4e6L8Xvil4B8M/svv4i0b4afDPV/Eset6MkUtx4h1DTJBHe6VZWoh/eMkjrB53mc3KTw%2BWDCWPR/sOftL%2BAv2ydF8U6pZfDj4eyQeGdWt7JPEPw78VxeJdA1My2kVyVt9Q%2Bx2u%2BaIShJovK/dsV%2BZtxCgHR/8IP8A8FC/%2BjoPgz/4YfVv/moqh4H8cftWeDv2rPDnwR%2BN3xH%2BHvibRvE3w98Q65DN4V%2BHl9ot1aXWm32iW6Kz3Gr3ySxumqSkqERg0SENjIPqHizwn4W03wtqWpab4csba5trGWW3uLe0RHjdULKysoBBBArz7xx/ykL%2BF/8A2Rnx5/6dvCFAHs1FFFABRRRQAUUUUAFfOPwm8Vft3/HXR9e8d%2BF/jf8ACTQNLt/iF4q0PS9Kv/g/ql/cRWul69f6ZC0twniKBZZHjs1dmWKNdzkBQAK%2Bjq8Z/YP/AOSIa5/2Wb4j/wDqa63QAf8ACD/8FC/%2BjoPgz/4YfVv/AJqKP%2BEH/wCChf8A0dB8Gf8Aww%2Brf/NRXs1FAHjP/CD/APBQv/o6D4M/%2BGH1b/5qKP8AhB/%2BChf/AEdB8Gf/AAw%2Brf8AzUV7NRQB4z/wg/8AwUL/AOjoPgz/AOGH1b/5qKP%2BEH/4KF/9HQfBn/ww%2Brf/ADUV7NRQB4z/AMIP/wAFC/8Ao6D4M/8Ahh9W/wDmoo/4Qf8A4KF/9HQfBn/ww%2Brf/NRXs1FAHjP/AAg//BQv/o6D4M/%2BGH1b/wCaij/hB/8AgoX/ANHQfBn/AMMPq3/zUV7NRQB4z/wg/wDwUL/6Og%2BDP/hh9W/%2Baij/AIQf/goX/wBHQfBn/wAMPq3/AM1FezUUAeM/8IP/AMFC/wDo6D4M/wDhh9W/%2Baij/hB/%2BChf/R0HwZ/8MPq3/wA1FezUUAeM/wDCD/8ABQv/AKOg%2BDP/AIYfVv8A5qKP%2BEH/AOChf/R0HwZ/8MPq3/zUV7NRQB4z/wAIP/wUL/6Og%2BDP/hh9W/8Amoo/4Qf/AIKF/wDR0HwZ/wDDD6t/81FezUUAeM/8IP8A8FC/%2BjoPgz/4YfVv/moo/wCEH/4KF/8AR0HwZ/8ADD6t/wDNRXs1FAHjP/CD/wDBQv8A6Og%2BDP8A4YfVv/moo/4Qf/goX/0dB8Gf/DD6t/8ANRXs1FAHjP8Awg//AAUL/wCjoPgz/wCGH1b/AOaij/hB/wDgoX/0dB8Gf/DD6t/81FezUUAeM/8ACD/8FC/%2BjoPgz/4YfVv/AJqKP%2BEH/wCChf8A0dB8Gf8Aww%2Brf/NRXs1FAHjP/CD/APBQv/o6D4M/%2BGH1b/5qKP8AhB/%2BChf/AEdB8Gf/AAw%2Brf8AzUV7De31lptq99qN5FbwRLukmmkCIg9STwK838TftrfsceDLp7Dxb%2B1h8NtNuI/v21744sI5R/wBpd36VlVr0KKvUmo%2BrS/NoxrYnD4dXqzjH1aX5tGN/wAIP/wUL/6Og%2BDP/hh9W/8Amoo/4Qf/AIKF/wDR0HwZ/wDDD6t/81FYPir/AIKt/wDBOfwdAbnV/wBr3wfMozkaVetft/3zbLIT%2BVcd/wAPrf2HdTJfwLeeOvFEJ/1dx4f%2BHepSJJ/umSJD%2BlcU85yim7SxEL/4k/yuedU4gyKlLlliqd%2B3PFv7ouTPT/8AhB/%2BChf/AEdB8Gf/AAw%2Brf8AzUUf8IP/AMFC/wDo6D4M/wDhh9W/%2BaivMB/wWD%2BDknz2f7Lvx/uIz92aH4U3BVvplxS/8Pf/AIS/9GoftCf%2BGon/APjlR/bmU/8AP5fdL/5Az/1jyL/n%2Bvun/wDKz07/AIQf/goX/wBHQfBn/wAMPq3/AM1FH/CD/wDBQv8A6Og%2BDP8A4YfVv/morzH/AIe//CX/AKNQ/aE/8NRP/wDHKT/h7d4Z1E%2BV4P8A2EP2l9blPG2x%2BE7hVP8AtM867frR/bmU/wDP1fdL/wCQD/WPI%2BldfdN/lTZ6f/wg/wDwUL/6Og%2BDP/hh9W/%2Baij/AIQf/goX/wBHQfBn/wAMPq3/AM1FeU6h/wAFOvjXbQG8h/4Jg/GqKA/dl1a3tLPj33yHFcd4l/4LFfF3Rgwh/YUjsWX/AKG/42aBoqj6mdzis55/lVNXlN/%2BAT/WCOvC5jTx8uXCUq1V9qeHxE390KEmfQ//AAg//BQv/o6D4M/%2BGH1b/wCairf7K3xG%2BNPjDWPih4E%2BOmv%2BF9W1TwD8QotDs9V8J%2BGrnSbe6tZdB0fU1Z7e4vbxlkWTUZULCXaVjQ7VOc/Ges/8FwPjdEWEfwi%2BB%2Ble11%2B0Jp2o7fxs1YN%2BFe4/8Ekfjnrv7Sfhn41fGrxMPDwvta%2BM6%2BePCl/JdWA8nwt4egXypZFVn%2BWIbsjh9wHABq8DneXZjXdKhJuSV9mtNur8%2Bx7VTLc9w1FVsXl%2BJoU27KdbDV6MG91FSq04JyaTaju0m7aM%2BtqKKK9Y5QooooAKKKKACiiigAooooAKKKKACiiigAooooAKKKKACiiigDz39q60%2BAd7%2Bzv4rt/2oJPC6%2BBDpudfPjWeCPS9okUxC4a4Ii2mYRgBzgttHOcV84fsr/tJfsOzf8Eb/h5rvxt%2BKngfX/A3hv4A6DN45sDqVvqMSwWlhaw3EE1vGzmQrcKIGhKkmU%2BUVLHaftGigD5k/wCCU4%2BHGo/ALxD44%2BE2t%2BDIdA8UePLvVtN8D%2BAdds7/AEzwPDJa2iR6OrWTvbxT7I1vLiGI%2BWlzfz7C6FZH5j4t%2BK/inb/8FkPgHo3jfwf4f03Rbr4cfEi18MX%2BleJp7y61GPf4bmka6t5LKBLRlMKbVjmuA25ssm0bvsKvjH9s7V20j/gsZ%2BxbubEd34f%2BJ1tIc/3rDRyo/wC%2BlWuXGT9nQ5vOP4yiv1Pd4cw31vNPZd6dZ/8AgNCtL/20%2BzqKKK6jwgooooAKKKKACiiigAooooAKKKKACiiigDzPUv2ZP2bfjRo%2Bg%2BKfjF%2Bz34H8Wanb%2BH7W1g1HxL4Ts7%2BeOBVLrEsk8bMEDO7BQcAuxxkmqX/DA/7Cv/Rlnwl/8Nzpn/xiuT%2BL3/BSD9i/9j6Xw58NP2i/jL/wjut33hSz1O1sv%2BEd1G732r74lk32tvIgy8Mo2lg3y5xggnkP%2BH5v/BLL/o6L/wAsnXP/AJCrxcRi%2BHadeUa86Smnrzezvfzur39TReIeIypfVI5xOkqenIsTUgo9bKKrxUd9lFb7anrf/DA/7Cv/AEZZ8Jf/AA3Omf8AxivTtA0DQvCmhWXhbwtotppumabaR2unadp9ssMFrBGoSOKONAFRFUBVVQAAAAMCvlb/AIfm/wDBLL/o6L/yydc/%2BQq%2BnvAPjrwr8UPAmi/EvwLqn27RPEWkW2p6Pe%2BQ8X2i1uIllik2SKrpuR1O1lDDOCAeK6MDiMnrTksHKm2lryct7efKlpfuKXF1XiT91PMZYnk1s686vLfS9pValr7XSV9r9Dwn4YfsL%2BK/AHjzwprWp/GfTdQ0HwP8UPFXi/w1pcPhCSC7C67/AGs89pcXJvXSUxS6qxSVIYv3cIRkLMZB5HrX/BGGXXvFPj3xJefHbw7FceMvAXj/AML/ANtWvwvRNbuY/E0iuLjVdRN8X1R7LaI4UC26eWNu1MBh7tYft%2BfCPV9OsZtJ8KeI5r660XxbqV3pMv2C3l0tPDl6thqMd3JPdpBAwu3SBGaXy2JLF1jV3XhPBv8AwU%2B8D/Hab4caj8BILOWx134z6j4G8bwX99Y6lLp5t/Bur%2BIUNtc6VfXFnK7G0sDvSeZAk00bBJVPlekQddJ%2BwwH8Q6rr4%2BKGDqfx10n4jmIaJ/q/sWkafpv2DPn/ADb/ALB5nnYG3zdvltt3N3nxr%2BB2oftAfs8678EvH/jGK3v9asGjTxBoelmAWV0komtbqKCWWXLQypC%2B1nZXaM5wGwPnjxb/AMFVpX%2BCHhTxr8IvhTr/AIjvdUg%2BHsniPxTL4fgt9G0VvEl3pypBcwDUmuY7hrW981UgN1FA00HmzMpJb6Q%2BMPx48P8Awk%2BAXjz4%2B3Wjalc2PgLw/rGqX1lcafNaS3A06GWWVYxOillbyWCSqGjcEMjMpBIBzvwF/Z/%2BKHwp1fxF478a/FrQ/EPirxx4ti1bxpqNl4PmsLSS1g0yKwt7Kxt2vpmtNn2eCUySy3JZmuBtUSp5PF/s4/sl/tT/AAP0Xxxf%2BLP2mPh/4s8Y%2BNbs6jd%2BM7n4RXsE818HAhFzGddkWWzggAt4bSE24jUBg5dpGfb/AGWvjZ8fvEPxU8TfAb9pUeEbnxFo3grw74rtdS8F6Vc2VoLXVZNSgNk0dzc3DvLbz6XNmcOiypNGRFGQy1zXjL9on9qj4ZfHjX/hHfXPgbxpLJ8L/EXi7R9K8L%2BFL%2B3vfDxtJoY9Mhv2a%2BnF6LwyTRoY0tXZ7Kby0dVcxAG34G/Za/aG%2BGHh3xbq/gj4%2BeBh428f%2BPn8T%2BLdW1X4V3E2jljpdrpqw2enRavFLbnyrK3ZpJLqdndpywxIojk8EfsK6R4K8G/Ar4bR/EW4vPD3wTu31FdPuNLRTreoCwuLS2mYo6pbxQm7uJkgVGUOLfaV8gbuQ%2BCX7c3jO%2B/Z11Pxl8SvEejeJviVHc6bptl8OtO%2BGmr%2BDb%2B31m/hU2unT2er3Nxc7HkLt9s2rEIIZpcFIZGHmHib/gpz%2B0J4V/Z2%2BHfxJ8Za18LfCuq658O/EPiHWNW13Q9QbS9f1XTLqKGLQNMjW9WSC6uVaSRC8lzKBGfLt58PsAPZx%2Bwd4yHx2j%2BIZ%2BO1i3hez%2BJ938QNN0WTwcW1eLWZ9Ll0/wAt9T%2B2bZLJFmcrCLZZdixwmcxLtO94L/Zl%2BPdj458Z/Gn4gftD%2BHbzx14g8BxeGNB1Lwx8PZdM07S0hkupobue0m1K6kvZlmuS2DPGgRSiqhkd24vVf%2BCgXirxh%2B0J8EvA/wAEvCumXHg3xtrFvY/EDWNYila5sLi%2B8L6lrthYWpjkVFuUhsYpbjzA4SK7tgqkzb4%2BZ/Zb/bq/aV/aQ%2BN2r/ByVvCOiXF54X8SX%2BkyXvw91WKLQ7vTtYt9PgiW5mvkg8VQOkzvNcaa0Edu8UaSMrXMQAB6Z41/YZtpv2UvAn7KPw2u/h%2B2leCNNsrKG4%2BJ3wxXxVHILa28lLuOB7y3WO93fvfPcyjcz7kfcTXE%2BKf%2BCUXhiLQrbwB8I/iZa6B4Z1D4ZeGvAXjKLVvCw1LU9Q0nQ7meezks7wXMIsrtjdXHmTvFcAt5TpGjxBm5e4/4KCftG%2BBfhfqOrfELxB4G1K98QftB3Xw0%2BGvirQPhrrDWky2NjcS6heTaTb6hd3d7Il3pmr2kNvbzIZngh%2BZPMYrrePP27fiz4fvfhtrmn/GXwXB8Pta8I6lqPjL4rt8C/Ed9pMF9bajbWotphDqKjw8Aj3fmtqEr%2BTJaurlSjCgD2S9/Z0%2BMfjL9ovw78Zfif8bPD95o3gfUtVvfBeg6D4GlsLxGvLaW0Ed/eyahOLyKOGZvkihtg8qRSNzGorzvwl%2BwP8fYvhp4y8I/En9pvwjqOs618ULP4g%2BE9c8O/C2605NF1qG%2BivGWeCfWbr7bau0EURiV4HETzDzdzo8djUv2xvjba/tAXcsGmeFv%2BFY6f8ZrP4aXNg%2Bm3J1uW8uNNgnGprdfafIWJby5itvsptyxjV5/PBxDXH%2BMv28f2l/hVrvxY8D67a%2BGvE154G8P6Xfwa6PhlrXhq10w3WrmwnuJba9vJ5NYsLWDfeyXtk6QlLaSPeGdWUA0/iv/AMEhvhx8dfgB418FfFL4p64/xI8baJ4stb34ieGtW1fRbWGfXVUTA6VZ6kkd1Zx%2BRZKLO6lmEkdlGskjlmY9zc/se/GaL9qzwz8cbD4/6Df%2BEPBmh2mk%2BEvBni/wdqOr32kRCPyr67i1STWVabUbqP8AdG9uYJ5EjBUbvNuDP5no3/BTXxR4h%2BAPxC/4Vvrngf4gfEXw143uvCvhHW/DVlcQ%2BHvEEiaJZ60%2BrCH7VNItla2t43nbbphLJalIpQ1zCK1/iJ/wUE%2BK2m%2BEfgk/w58KeHb7WPFtx4DvfinNdwTm00XTfEGpWWnJFbKsoZbqaW5uJIN7SKkdhMZAxaMOAL4j/wCCO3wKl8QeJb34d/Erx54b0zxF8J9b8FjSG8e63qcVidSl8yS7ijv7%2BWAKpLn7MYfKLtv4Ir179m79nPxv8JfGvjT4r/FX4l6N4k8UeNv7Mhv38MeEn0PTbe3sIHhgCWsl3duZSJH3ytMdyiJAqLEorzb4r/tc/tC/Br9qC7%2BEqaFp3jewu/Cev61pHh/TPh1q2i3Uf2KyFzbW0Or3V1NZazcStthe3tIkli8zzWVUjYHG/ZN/bX%2BL37VmoeLvg/4I%2BOvwm1XxXo/g7w54mtPGXh3wVf3Wi2K6jNexXGk3NmdVWSS7tjYkM4uoSPtUe%2BCNo2RwD6q8c/8AIk6x/wBgq4/9FtXlvjj/AJSF/C//ALIz48/9O3hCsv8AY/8AjJ8Xf2hP2Lz8avjFeeHLm58RR6zc%2BHr3wvodxp1rfaGLi4TTL3yJ7q6dGubRIbkjzWAFwFGduTqeOP8AlIX8L/8AsjPjz/07eEKAPZqKKKACiis3xh4y8IfDzwvf%2BOPH/ivTdD0XS7ZrjU9Y1i%2BjtrWzhUZaSWWQhI0A6sxAFAGlRXOaZ8YfhHrXwyHxr0f4peHLvwadPe/Hi221y3k0w2iAl7j7UrmLylCtl920bTk8Vzurftf/ALJeg/DbTfjLrn7UXw6svB%2BsXTW2keK7vxtYR6bfTqWDRQ3TSiKVwUcFVYkbG44NAHoteM/sH/8AJENc/wCyzfEf/wBTXW69hsL%2Bx1Wxh1TS72K5trmJZbe4t5A8csbAFXVhwykEEEcEGvHv2D/%2BSIa5/wBlm%2BI//qa63QB7NRRRQAUUUUAFFFFABRRRQAUUUUAFFYnj34l/Dj4VaG3if4ofEDRPDemq21tR17VYbOAH08yVlXP414x4t/4Kr/8ABOnwWrtrH7X3g2bYDu/snUDf5%2Bn2VZM/hXNXxuDwztWqxj6yS/Nr8jjxOYZfg3bEVoQ/xSivwck/wPoKivkk/wDBZj9mLxKdvwM%2BF3xd%2BJ2f9U3gT4aXk6yfQ3Ah4oP7fn7anjL5fg9/wSe%2BINyH/wBXL438VafoG33ZZd5H061x/wBt5Y/4dTn/AMMZy/8ASYtficH%2BseTS/h1Of/BGc/xjBr8T62or5Gm8Sf8ABan4hxs1h4B%2BBHw0snGZZdb1e/1e9t19V8gCBiP9rivPvG/w38UjfP8Atk/8F3JdF6l9K8BalpHhUw/7CSK7yyfUru9qyqZw4q8aE7d58tNffOSf/kp2YKvnOb1fZZZluIry7Km1/wDJy/8AJD74kkjhjaaaRURQSzMcAAdya8p%2BKH7dn7GfwYjlPxL/AGn/AARpk0OfMsT4igluuPSCJmlP4Ka%2BAPEtr/wQsi1IaV8Tv2ofib8aNSLZXTr7xNrusPcsP9q0jjjbn/aFeg/DD4j/ALJXg2SKb9kr/giL8RNYniINpr2r/DK2skb0KXt88kn16V58uIKtR8sJUk/KU6r%2B6lBr/wAmPsafhp4yYimpzyj6rB/axE1TVu/72WGT%2BTZ7B/w%2BK%2BBXi6Vh%2Bzt8APjT8V7ZSQdT8B/De4ltFx3MlwYSB/wGhv8Ago9%2B0jrv7jwB/wAEqvjPc3D/AOpXxCLTSoyf9qSR2CfiKSP9pf8A4KteMoxbeA/%2BCa3hzwnBgLb3njP4q2k6gdi0FogdQPTOad/wr3/gtF8Qv%2BRl/aH%2BCfw8jk6f8If4TvNWmiHv9vIQt9OKX1vMavw1Ksv8NCMV8nVkn99y/wDiF3ENLXMuIMFh%2B6VWjUa9I0Y4qT/8CuIvxo/4LH%2BOf3/hb9i34WeBo2%2B7D41%2BIj6k6/U6eoFKPDf/AAW91759S%2BJH7N%2BgA9E0jR9Zuio%2Bs5HNA/4J2/tTeLf3/wAXv%2BCrHxavZ2%2B%2BfBljZeH4/fCQq4FB/wCCQvw01r938Sv2wP2iPGMDf66z8R/FaaSGT2KxRIce2aPq%2BbVN41X616cPwhTf4MP9QeCKX%2B98VVZvr7LD4lp%2BjcaEfvSRieKvCn/BTzwt8/xF/wCCmfwf8KEjdsk8CW6gD1BuZVNefeJPiN8aLHdafEL/AIOFvhXpUI/19voHg3w%2Bbkj0B%2B0M6fUDNe7%2BE/8Agjp/wTb8I/vbf9l/S9RnZt0tzrup3t%2B8jd2b7RM4yfYAe1eheHP2Df2I/CRVvD37Ifw1tnX7sw8E2LSf99tEW/Wj%2Byc0nu0vWtXl/wCk8iD/AFa8HqGk8Xmlf0dGin/4FWqNL8T4G8SfEX9gByT8dP8AguZ8avEpziWy8La7d21rMfQxWNnICPo341jf8I//AMEafFH77wT8BP2jPi1qj/cvdDs/EFxdTfQyTQKc/QV%2BqHhv4cfDzwaAPCHgPRdKCjCjTdLhgx/3worao/1cqVP4jp/%2BC5Tf31KsvyQf2f4K0NY5JiMQ/wDp/jFZ%2Bqp0JNfKR%2BTNn%2ByZ8MvFN0l74G/4IhfGHxLaI260tPiN8XZdHRG/vGGa5bB/3iR7V6V4X/Zq%2BPun2iW3hD/ghP8AALQVX/Vt4s8Wabq0qfWRYGY/nX6OUVrS4Yw1N357Pyp0l/7jk/xNqOacA4J/7HwrgY%2Bc/rNaXzc68U//AAFfI%2BGfC/wV/wCCnGiXAuvhv%2ByL%2Bx54Ik4xM%2BnX7SJ9DaRLz%2Bldkvw0/wCCz%2BtgDVP2lfghoIPVdD8G3t0E%2Bn2hhn8a%2BtKK7YZLSgrKtUt5T5V90YRPRp8dxw0eXCZPl9Jf3cHGX/pdaf5HyWf2Tf8AgqT4jOPFH/BVK00uE/ftvDvwa00E/SWWTcv5Uf8ADtv4%2Ba583jn/AIKm/HC4Zv8AWf2BfWulg/QRxttr60oq/wCxcC/j55etSo//AG9Gn/ETeKof7usPS/694PBw/H6vN/e2fJY/4JJ%2BGbr5te/b0/ac1Nj983vxcc5/BYBQf%2BCNv7M2oceMfiv8YfESnqmtfE68cH/vjZX1pRR/YWUdaKfq5P8AObD/AIip4iL4MynH/DGjD7uTDwa%2BTR8pWH/BEn/gmfaz/bL/APZ2k1K4/iuNU8X6tOzfUG62/pXY%2BGv%2BCWn/AATv8KFTpf7IHgiXb0/tLSRe/n9oL5r3yitIZNlFN3jh4L/tyP8AkzkxXiT4iY2PLXzjFSXZ4itb7lUj%2Bh57ov7JH7KfhxVXw9%2BzJ8PbAJ90WXguxix9NsQrkf2RdE0Xw58XP2idF8PaRa2FnB8ZbIQ2llbrFFHnwX4YJ2qoAGSSeB1Jr3CvGf2X/wDkt/7R3/ZZrH/1CvC9dtOjRpfBFL0SX5JHy%2BLzPM8w/wB6r1KnX35znr/2/OR7NRRRWpxBRRRQAUUUUAFFFFABRRRQAUUUUAFFFFABRRRQAUUUUAFFFFABRRRQAV8F/wDBS/Vf7C/4KrfsQaru27tV8YWuf%2Bu/9hxY/wDHq%2B9K/Ov/AILH3kukf8FBP2JvEEfCWXjzUTcN/difVPDcbH/x%2BvMziXJls5duV/8Ak9M%2B48N6CxPGmFoP7arR%2B/C4v9Uj9FKKKK9M%2BHCiiigAooooAKKKKACiiigAooooAKKKKAMrwN/yJOj/APYLt/8A0WtatZQ8GaGmVga%2BhTJIit9WuY0X2VVkCqPYACl/4Q/Sf%2BfvVf8AweXf/wAdoA1KKy/%2BEP0n/n71X/weXf8A8do/4Q/Sf%2BfvVf8AweXf/wAdoA8P8Qf8E0/2fPEviP4zeJdQ1fxMJfjbp1tZ65bpqMPk6IIlJaTTUMJEDTTkXMwl81JZlUspX5C/wV/wTu%2BHPhbxdH8QvEHxi8feKfEB%2BJ0nju81jxBe6f5l3qbeFZ/C/lslrZQxJbiwnLLHEkeJkRs7N0be2/8ACH6T/wA/eq/%2BDy7/APjtH/CH6T/z96r/AODy7/8AjtAHzl/w6k%2BDFn4X0DwD4c%2BM/wASNI8O6RY%2BEIdU0HTtT08QeIJvDTWp0y7vGexaUTbbK2SX7O8EcqRKGT5Vx9A6x8OtI8W%2BB9d%2BHXxCvrnxHpPiKG%2BttStdUjhUNZXQdXsx5EcYMSxuY1LZkKgb3dssbn/CH6T/AM/eq/8Ag8u//jtH/CH6T/z96r/4PLv/AOO0AeZ/A79j3S/gXJqWs6d8c/HfiDX9Uh0WxuvFHiafTZ746RpUkr2mkjy7KOL7MPtF2Gcxm5Y3kzmfzCsi53wl/YmuPg9478f%2BP9B/ar%2BJd9dfEXUL2/1mPVoPD8pt7qZfLgkhnXSVuNtpEEitoZZZIY0QBo35z67/AMIfpP8Az96r/wCDy7/%2BO0f8IfpP/P3qv/g8u/8A47QB5HpP/BP/AOAusHxBe/tHWR%2BNuo%2BJZ9PfU9R%2BLmg6RqACWCXCWccVrb2MFpCIftl4VZIA5N1KWdt3GRoP/BNz4TeAv2c9J/ZP%2BDnxJ8W%2BBPAVpDqNvr2ieDoNIs/%2BEjgvX3Tx3cv9ntJESpeMS2jW0wWQ/vNwRl9z/wCEP0n/AJ%2B9V/8AB5d//HaP%2BEP0n/n71X/weXf/AMdoA8g8e/8ABNn9iT4g/FzwZ8dNR/Zu8F2fivwR4pt9esNc0/whpqXV9Pb6fPY20V1O1u0ssUKTRyxqHUpLZ2rqw8oKX/Av9g/4ffAXxppni3Qvif401i38MaDqOi%2BAtB127snsvClhfXEE9xBaeTaRyygm1tkV7uS4dI4QisAz7vXP%2BEP0n/n71X/weXf/AMdo/wCEP0n/AJ%2B9V/8AB5d//HaAPLLf9h74aaT%2Bzz4F/Z/8KeNPE%2Bjv8OLm2vvCfjWzns5NZttSjimil1B2uLaS2luLhLm7E2%2B3aN/tc3yLkbcXX/8Agnr4S1z4K/8ADOkX7QfxHsfBWpWuqw%2BN9Ds7nSv%2BKvbVLy4vNTlvp5NPe4ikupru6MhspLUATsECYXb7b/wh%2Bk/8/eq/%2BDy7/wDjtH/CH6T/AM/eq/8Ag8u//jtAHldz%2Bw78Nbj49H44Dxt4pjtH8Uw%2BKJ/AcVzaDQ5tei05dOi1Nk%2BzfafNW2SMCIXAt/MiSYwmUeZSeF/2N7zQfEWq/EHWv2p/iXr/AIwvPDB0DRvGOsLoYu9AsmnSeRbSG30uK0Z3ljhZ3uYJ2byUBO0YPqv/AAh%2Bk/8AP3qv/g8u/wD47R/wh%2Bk/8/eq/wDg8u//AI7QB43qP/BN79lXxt8NdV8AfHX4faf8T77XNTvdU1bxf8RdA0zUtUm1G6tobWS9Qm1WC2lW3trWFBBDGiR2sKhMIKwvEv8AwSI/4J8eLfht4M%2BG%2BtfsyeDJf%2BEHOgrpWvHwXpLalPBpV1DcxW007Wh3QzNCUnjUKJEnmA2b8j6B/wCEP0n/AJ%2B9V/8AB5d//HaP%2BEP0n/n71X/weXf/AMdoA85l/ZQj1j4zWPxl8c/H3x34jfQb/Ub7wd4e1NtLj0/w5c3kE1s81t9lsIp5mS3uJ4Y/tU1wESVuCx3VT0X9jLSbPwn8QtO8T/Hjx94h8T/EnwwPD%2Bs/EPU59Mh1iz0%2BOG5jtorQWdjBaQeQ15dTRn7MSZZ3Z/M4A9S/4Q/Sf%2BfvVf8AweXf/wAdo/4Q/Sf%2BfvVf/B5d/wDx2gDMl8H%2BG/h58GW8AeDdKisNH0PwwdP0qxhGEt7aG38uKNfZUVQPpXAeOP8AlIX8L/8AsjPjz/07eEK9RPgzQ3ws7X0yZBMVxq1zIjezK0hVh7EEV5d44/5SF/C//sjPjz/07eEKAPZqKKKACvEP2/vDfiLXfgno2raJ4U1LX7Tw38S/Cuv%2BIND0fTpLy6vNNsdatLm4MVtErSXLwrH9pEKK0kn2faiu5VT7fRQB8XeGvh7afEn9k/4t%2BHvF%2BheOvCOneJ/iXf8Ajzwnbf8ACstUuruztYtZgu7WV9NFv5kzXF7ZveSadhbl4bsh442kOOR8HfFD9pH9nz4PfEr4u6p8MfFPizxT8ZPjW8ngTULf4Ha3Hb6BZNoGl2E%2Br3uiW8d1f2FoJdOupFtpT59yzwh2jNy8kX3/AEUAeWfAP4aD4afsdeCvhB%2Bzz4lnsI/D3gbTdJ8Lar488KXZlSO3to4o5LzTneynVyqZaEtAyk4woG2ue/4J02/iW0/ZuvrXxlq1jf6vH8W/iGup32mac9pbXE48Z615kkUDzTNChbJCNLIVBALtjJ90rxn9g/8A5Ihrn/ZZviP/AOprrdAHs1FFFABRRWd4s8W%2BF/Afhm%2B8Z%2BNvENlpOkaZbPcajqWo3KwwW0SjLO7sQFAHc0m1FXbshSlGMXKTskaNFfImpf8ABVRvjFqE3hX/AIJ9/szeLvjFepKYW8TfZzo/hy2cHB3310o3FTk7Ao3AfK3ej/hSv/BXX45/P8VP2sfAfwk02b7%2Bk/DHwu%2BpXhj/ALjXV8R5T%2BrxZGeleV/bFCq7YWEqvnFe7/4HJxj9zkeJ/b2GrO2Dpzr%2BcF7n/gyTjD7nI%2BqvFXi/wn4F0SbxL428Uado2nW4zPqGq3sdvBGPVnkIUfia%2BZfGX/BXL9n298RzfD39ljwZ4t%2BN/iaJtklj8ONGeeyt2PRpr5wsKR/9NEMgFHhb/gjz%2ByhJrUPjH9oHVPGfxj1%2BI7l1X4neK7i/VGPULAhSLZ6IysAMCvaPGfj/APZj/Yv%2BFyX/AIs1rwp8O/CliClrbpHDY2%2B7H%2BrhhjA8x8fwRqWPpUVKmbVIOdRwoQW7b55Jer5aa/8AJjowmD4rzrEww2GpqnKbtGME69WTeyjFRUL%2BimeF/wDDQX/BXf4h8eBP2B/AngWN/wDU3XxA%2BJSX/HZmi09Q6/7vWmv%2Bzt/wVu%2BKSlfib%2B3t4K8A28oxc2Hwy%2BHwuyVPVUub9hJH7MORUTf8FOPiT8eHOnfsA/sZ%2BMfiFBKdsPjbxPH/AMI/4fwf%2BWiTXIElwB1KBUbHSnD9lX/gpV%2B0KftH7TX7cVr8PdKm5l8J/A7SjbShT2/tO6zOjAcEBWUnpXmc1PE6Up18R5qXJD/wJKnH7nL5n3n/ABB/GYL3uKM1WDXWFWtet/4S4SMqqflUnR7NLoxP%2BCav7AHwSmHxg/a98bTeP9ZRSZvFvxy8YC6j9WURTsluE9FZGIGBmuetv27f%2BCcXhTXX8HfsYfsqy/E7XbVwrWnwf%2BFsTQWzdi9z5UUSp33oXAr0LwJ/wR9/YR8KayPFfjH4YXvj/XePO1v4ja5caxNPjn545W8luf8ApnX0f4Z8K%2BF/BWiweG/Bvhuw0nTrZdttYaZZpbwRD0VEAVR9BXTQy3FxX7unSoLuo%2B0n/wCBSSV/NuR1YXLfB3hxf7Nhq2Oqd5KGEpN93y/WcVP51IN9Wj5X/wCGlf8Agqz8Tl8v4Uf8E9/DPgi2fi31X4mfEKOYY9XtLFRKmPTOaP8AhmP/AIKpfFf5/jD/AMFBfD3gi1k/4%2BNG%2BFXgNHznsl5enzkx6gGvreiu3%2Byfafx69Sflzcq%2B6Cj%2BZ3/8RAeD0yrKsHhu0vYe3n/4Hip19fNU1rtbY%2BSov%2BCNv7NXiyVbz9o74nfFT4t3Gdz/APCe/EK7kiDf7EdsYdqjsuTjpzXoPgf/AIJlf8E/fh4Ubw3%2ByH4FZ4/9XLquhx37qfUNdeYc%2B%2Bc17pRWlPJ8qpS5o0I37tKT%2B%2BXM/wATjxviRx/mFL2VbNK/J/JCpKnBekKPsYL5RRmeF/BPgzwPY/2Z4K8I6Zo9sBj7PpdhHbp/3zGoFadFFejGMYqyVkfG1atWtUc6knKT3bbbfq22382wooopkBRRRQAUUUUAFFFFABRRRQAUUUUAFFFFABRRRQAUUUUAFeM/sv8A/Jb/ANo7/ss1j/6hXhevZq8Z/Zf/AOS3/tHf9lmsf/UK8L0AezUUUUAFFFFABRRRQAUUUUAFFFFABRRRQAUUUUAFFFFABRRRQAUUUUAFFee/tXWnwDvf2d/Fdv8AtQSeF18CHTc6%2BfGs8Eel7RIpiFw1wRFtMwjADnBbaOc4r5E8C/GT4e/EX/ghT4E0b4TfFXSddksfgj4Si8XWnhTXI7q8t9Ht00631xSts7SI0dqt5E4ADo4K8MMUAfftfnL/AMFzP%2BJf8bfgP4v6f8I9b6rqO/8Au7fEfg9M/wDkSvoH/gm6fhcZvjF/wzYdD/4VD/ws6L/hW3/CJ%2BV/Ynk/2DpP27%2BzfI/c/Zf7Q%2B158n5PtH2rHO6vmL/guRP8XdQuL258V%2BCfD1hpWh/CfX7zwnqOleJ57y7vlTxb4GMjXNvJZQpaFVxgRzXAbLZK4G7ys9/5E2IfaDf3Wf6H3/hU1/xEvJ4vaeIpw/8ABjlTf/pw/TaiorK7h1Cyhv7ZsxzxLJGfVSMj%2BdS16u58C04uzCiiigQUUUUAFFFFABRRRQAUUUUAFFFFABRRRQAUUUUAFFFFABRRRQAUUUUAFFFFABRRRQAUUUUAFFFFABRRRQAUUUUAFeM%2BOP8AlIX8L/8AsjPjz/07eEK9mrxnxx/ykL%2BF/wD2Rnx5/wCnbwhQB7NRRRQAUUUUAFFFFABXjP7B/wDyRDXP%2ByzfEf8A9TXW69mrxn9g/wD5Ihrn/ZZviP8A%2BprrdAHs1FFc18Y/i54D%2BAvwu134x/E7W007QfDunSXmo3T8kIo4RR/E7MQiqOWZlUckVM5wpwc5uyWrfZIipUhSpuc3aKTbb2SWrb9EUvj78ffhT%2BzJ8K9U%2BMvxn8VQ6RoWkxbpp5OXmkP3IYk6ySueFQck%2BwJHyr4P%2BA3xz/4Kd%2BI9P%2BNH7aGg3vg/4O2dwl54J%2BCpmKXGs4O6K%2B1plIJzwy23QZwcAMZbf7OvwI%2BJv7evxJ0b9uf9tLQGsPDVgy3vwb%2BEdw%2B%2BDTYWw0eq369Jrt12sqkYjBBwDhV%2B0a8WFKpnLVSsmqH2YPRz7Sn/AHesYddHPpE%2Bep0auftVcQnHDbxg9HU7TqLfl2cab3VpTvdQVfSNI0nw/pdvoeg6Xb2VlaQrFa2dpAscUMajCoiKAFUDgADArF%2BK3xc%2BGfwM8CX3xN%2BL3jfT/D2g6bHvvNS1KcJGvoo7u7HhUUFmOAAScV5v%2B2R%2B2z4D/ZJ0DT9KXRLvxX498Ty/ZfA/w90T57/WbknA4AJihU/flIwoBwGbCny/4TfsDfEn48%2BO7D9pT/gpf4ksvFniG0k%2B0eGPhfp%2BT4b8K55A8oki9uAMBpH3LnjMgVGHRiMdNVXhsJFSqLfpCHbma622hH3n/dWp%2Bu5Jwlg4ZZDOc/rPD4J3VOMUnXxDjo40IOyUU/dnXqWowei9rNezVBv2zv2xf20XOkf8E%2BfgkfDHhGc7W%2BM3xQsnt7eSP/npp2nkeZc8crI42ZG11XrXXfBf/gl18GvCnjKL40ftIeKNW%2BNHxFGGPijx8wngtGznbZ2OTDbIDyow5Q/dYdK%2BmkRI0EcahVUYVQMAClpU8qhOaq4uTqzWqvpFP%2B7Be6vV80vNG2L4%2BxWGw08Fw9Qjl%2BHkuWXs25V6keqrYmVqsk%2BsKfsKXTkkhFVUUIigADAAHAFLRRXqnwAUUUUAFFFFABRRRQAUUUUAFFFFABRRRQAUUUUAFFFFABRRRQAUUUUAFFFFABRRRQAUUUUAFeM/sv8A/Jb/ANo7/ss1j/6hXhevZq8Z/Zf/AOS3/tHf9lmsf/UK8L0AezUUUUAFFFFABRRRQAUUUUAFFFFABRRRQAUUUUAFFFFABRRRQAUUUUAFFFFABXwj/wAFn9F/t7Tbyx2Z8v8AZu8f3OP%2BuOt%2BDJs/%2BOV93V8e/wDBTTRv%2BEg8S6lpKpuaT9kv4smNfV1n8LMv/jwFcOZw9pltePeE/wD0mR9TwNifqfG2V1/5cTh3/wCV6P8AmfS/wH1r/hI/gd4M8Q7932/wpp1zu9d9tG2f1rq68n/YN1r/AISH9iD4P6yX3NP8MdCMp/2xYQhv/Hga9YrbCT9phKc%2B8Yv74xf6nm8Q4b6lxBjMP/JWrR/8Bq1Y/wDtoUUUV0HkBRRRQAUUUUAFFFFABRRRQAUUUUAFFFFABRRRQAUUUUAFFFFABRRRQAUUUUAFFFFABRRRQAUUUUAFFFFABRRRQAV4z44/5SF/C/8A7Iz48/8ATt4Qr2avGfHH/KQv4X/9kZ8ef%2BnbwhQB7NRRRQAUUV8/f8FLjpg/Zrtf%2BE08v/hCv%2BFheF/%2BFkfaP%2BPf/hHv7ZtPtv2rPH2Py/8Aj53fu/s3n%2BZ%2B730AfQNFfBfgi0%2BF/j79gL4tfC/4f/GXwV4W8CR%2BO9S1bwE2ra1Ha6IfCMOsRSPE7I37nQ7qeDULMTRgwi1mPlBowinyb4dS/DC70vTNV/ad0D4W6T%2BzDeftDaxJoum6Xex3PgCC2Hg%2B1S2Ec9xBBbz6edXTV2SV4Y4Hv2Vo13G3JAP1Nrxn9g//AJIhrn/ZZviP/wCprrdZn7EN38YrL/gnt8PLy10Eap4nTwVbHR9P8Z6tcWDT2%2BP9DW8uPs9xPFJ9m8nezQySb8713bql/wCCdNx4lu/2br668ZaTY2GryfFv4htqdjpmovd21vOfGeteZHFO8MLTIGyA7RRlgASi5wAD3SviX4ks3/BTn9sc/AnT2Nx8D/gprEdz4%2BuEOYPFPiVOYtLz0kgt/vSjkFsqRzE9e7f8FBP2gX/Zg/Y48ffGOwuDHqdjoT22g7OXOo3JFva7QOWxNKjEDnCn0zUv7Bn7OVl%2Byr%2ByZ4K%2BDa6fHDqdno8Vx4klUDdcapMolupHbq581mUE5O1VHQCvHxq%2BvY2OCfwJKc/NXtGHpJpyl3jG2zZ4GYReZZhDL3/DSVSp5rmtCHpKScpd4wts2evKqooRFAAGAAOAK8E/bY/bXh/Ztt9J%2BFXwp8KHxn8XfGjG38DeBrVstIxyDeXRBHk2keGZnJXdsYAqFd01P25P2utO/ZH%2BEsetaPoR8QeNvEt8ukfD3whbgtNrOqy4WNNqnPlIWDSNxgYXIZ1Bwf2H/wBiu%2B%2BBLan8efj14jHi740eNo1m8ZeK7gBltFOCNOsh0htYsKoCgbygJAVURKxeJr16/wBTwrtKyc5fyJ7W7zl9lbJe9LSyf6/w7k2VZXlS4jz6HPR5pRw9C7TxNSFuZyas44ak2lWmveqStQpNSdSdNn7Gv7Dc3wV16/8A2if2hPFw8d/GnxRCP%2BEi8XXKZi06Mj/jw09CAILZPu/KFL4yQq4Rfomiiu7C4Whg6KpUlZfe23u23q2923q/uS%2BXz7Ps04lzKWOx8%2BabSSSSjGEYq0YU4K0YU4L3YQilGKXVtykUUUV0HjhRRRQAUUUUAFFFFABRRRQAUUUUAFFFFABRRRQAUUUUAFFFFABRRRQAUUUUAFFFFABRRRQAUUUUAFeM/sv/APJb/wBo7/ss1j/6hXhevZq8Z/Zf/wCS3/tHf9lmsf8A1CvC9AHs1FFFABRRRQAUUUUAFFFFABRRRQAUUUUAFFFFABRRRQAUUUUAFFFFABRRRQAV81ftdaL/AMJJ%2B0jo3h3Zu%2B3/ALNXxOttvrvvPCi4/WvpWvEviXYw6p%2B3z8N9MuRmO4%2BCXj%2BKQf7Lar4QB/nUVYe0pyh3TX3pr9TpwWIeExtKut4SjL/wGUZf%2B2mP/wAEoNa/t7/gnN8Ir7fny/CMVtn/AK4u8OP/AByvoWvlL/giRfT3X/BMz4c2V2f3%2BnvrFnOM/dMer3igf987a%2Bra4Mmn7TJ8PLvTh/6Sv8j63xLw6wniNnNFbRxWI/8AT1Rr/wBKCiiivSPiQooooAKKKKACiiigAooooAKKKKACiiigAooooAKKKKACiiigAooooAKKKKACiiigAooooAKKKKACiiigAooooAK8Z8cf8pC/hf8A9kZ8ef8Ap28IV7NXjPjj/lIX8L/%2ByM%2BPP/Tt4QoA9mooooAKKKKACiiigArxn9g//kiGuf8AZZviP/6mut17NXjP7B//ACRDXP8Ass3xH/8AU11ugDyf9u//AIyE/bQ%2BAn7Flt%2B%2B0611mX4ieOIByBY6aClmkg/ijmuWeMg8ZVfw%2BqPHvjjwv8MvA%2BsfEbxtqqWOj6Dpk%2BoapeSfdht4YzJI59cKp4718rf8E/8A/jIH9rf49/tuXX76wm8RR%2BAvA8x5A03TAPtEsZ7xz3DLJ/vI1H/BSrVtT/aJ%2BI/w8/4JqeCb%2BWN/iDfLrfxJuLVyHsfC1lKHkBI5Q3EyCJG6ZjKkYavnKWKdHCV8eleVWVoLvZ%2Bzpr0bUpejbOrw0yCHFmfuVafJRqznUqVP%2BfeFw8Xzz/8ABcJuK%2B1OrTX2iH9hf4b%2BMv2sfizJ/wAFOv2h9FktX1Oye0%2BCnhK6IZfD2hPnF6w6farpTuLjojcEq6qn2LVfSNJ0zQNKtdC0SwitbOyt0gtLWBAqQxIoVEUDgAAAAdgKsV6%2BAwawWH5L3k9ZS6yk92/yS6JJLRHtcV8RVOJs3eIUFTowSp0aS%2BGlRhdU6ce9l705bzqSqVJNuehRRRXYfNhRRRQAUUUUAFFFFABRRRQAUUUUAFFFFABRRRQAUUUUAFFFFABRRRQAUUUUAFFFFABRRRQAUUUUAFFFFABXjP7L/wDyW/8AaO/7LNY/%2BoV4Xr2avGf2X/8Akt/7R3/ZZrH/ANQrwvQB7NRRRQAUUUUAFFFFABRRRQAUUUUAFFFFABRRRQAUUUUAFFFFABRRRQB5F%2B318QvGnwo/Yo%2BKfxI%2BHmsyaZrOi%2BBtRurLV4Ywz6aVgbdeKGBUmBd0w3ArmPkEZFeReDvGV98CPDX7UXgzQvjP4sufCfw18NwatoXifXNYuvE%2Bo6Fcy6A13dRJNezSTXflhILxIJJG5vdqlY2jVfrW9srPUrOXTtRtIri3uImjngmjDpIjDDKyngggkEHgg1yPgD9nL9nr4UaRZ6B8LfgR4M8NWGntdNYWWgeF7SzhtjchRcGNIY1VDKEQSYA3hF3ZwKAPmv8A4Jgal8a9C%2BJfjr4VfG/Xr839v8P/AAX4gtdGb4oah4ytI1vl1WOS/TUtRCzwzXMlmwexRTbQraxSQyS/aJCvoF/408SeIf8Agpt4L8O6t8I/EOhWek/B7xwlhr2q3OnPaa0G1bwll7Zba7lnQJtGftEUB%2BcbQ3zY9c%2BE/wACPgf8BdKu9C%2BBnwa8KeC7G/uftN9Z%2BE/Dttp0VxNtC%2BZIluiB32gDcQTgAVwnjj/lIX8L/wDsjPjz/wBO3hCgDzH/AIIz/wCgfsqa/wCEOn/CPfFfxNp23%2B7tvmfH/kSvrSvkv/gk/wD8SyL9ojwe3H9lftO%2BKlgT0hk%2BzOn82r60ryci0yiiuya%2B6U1%2Bh%2BgeKnveIeY1P55xn/4Mo4ep/wC5GFFFFesfn4UUUUAFFFFABRRRQAUUUUAFFFFABRRRQAUUUUAFFFFABRRRQAUUUUAFFFFABRRRQAUUUUAFFFFABRRRQAUUUUAFeM%2BOP%2BUhfwv/AOyM%2BPP/AE7eEK9mrxnxx/ykL%2BF//ZGfHn/p28IUAezUUUUAFFFFABRRRQAV87/s2eMF%2BHn7HPxE8fvIFGh/ET4qagWPQeT4u16TP/jtfRFfEHxR8Zf8IJ/wSG%2BPmuiXYZfFvxUsFbOMG78Z63aj8czVzY2t9XwdWr/LGT%2B6LZx5hX%2Bq4CtW/khKX3Rk/wBEehf8EktC074Vf8Exfhnc6zKlrB/wjVxrV/cy8YS4uJ7tpGPU/JIDn0ArA/4Je6Fq/wAcNY8e/wDBSHx9YyR6l8WdWa18G2tx9/TPDFk5htYgP4GlZDI4HDFEf%2BKq37WXiO9/Zf8A%2BCMX/CK6NG66r/wqzR/COl28X%2Btkubu3t7AhP9sLI7%2BvyE9a%2BlP2evhVZfAz4D%2BDfg1YBPL8L%2BGLHSyydJGhgSNn9yzKWJ7kmvFwVC%2BJw2Hfw0KUZW/vySjH7oqbXm7n6Bw5SfDPhC6kFarjZ08Mn19hh6VOtWS8p150YS7qny7XR2NFFFfRnxYUUUUAFFFFABRRRQAUUUUAFFFFABRRRQAUUUUAFFFFABRRRQAUUUUAFFFFABRRRQAUUUUAFFFFABRRRQAUUUUAFeM/sv8A/Jb/ANo7/ss1j/6hXhevZq8Z/Zf/AOS3/tHf9lmsf/UK8L0AezUUUUAFFFFABRRRQAUUUUAFFFFABRRRQAUUUUAFFFFABRRRQAUUUUAFFFFABXjPjj/lIX8L/wDsjPjz/wBO3hCvZq%2Bb/jZ8Q7fwh/wVM/Z98JXUgA8V/Cj4kWFuhxzNFdeFbsEfSO3l49/apnONON5eX4u35sipUjSjzS20X3tJfi0c3/wTt/4lH7UX7Vfg/p5Hxch1HZ6fa7JHz%2BOyvrSvkv8AZA/4k3/BT39rXw4eEuW8Fajbr679JlWQ/wDfQFfWleXkumB5e06i%2B6pP/M/Q/E33uKVW/wCfmGwU/wDwLBYb9YhRRRXrH5%2BFFFFABRRRQAUUUUAFFFFABRRRQAUUUUAFFFFABRRRQAUUUUAFFFFABRRRQAUUUUAFFFFABRRRQAUUUUAFFFFABXjPjj/lIX8L/wDsjPjz/wBO3hCvZq8Z8cf8pC/hf/2Rnx5/6dvCFAHs1FFFABXz9/wUuOmD9mu1/wCE08v/AIQr/hYXhf8A4WR9o/49/wDhHv7ZtPtv2rPH2Py/%2BPnd%2B7%2Bzef5n7vfX0DRQB%2Bd%2Bo%2BKPhy//AATM%2BNHgj4Y%2BJ9Ph8FTeOL9/h3b6PcRtZ2PhSfW4Lc3/AJCZL6BHc/b3cRgQvYRSpEwjKEeMSaT8K7j4e2XgnUviX8ErLwBF%2B0Nrs1h471zwbFN8Hr1f%2BEStGSO10dr5IYh580scaC/ZBf2moTCR5H%2BzD9d6KAPCf2JNQ%2BIVv/wTo%2BFd34S8ITXXiKD4YaPHZaV468Qz273EqWkSA3V4LSSVd4G/ebbd8wzGpyB8m/tK3vinxD/wSM1X4beLNMs9O1vx/wDtJ%2BItBv7DSdRe7ghuZfiLqk0kUM7wwvMgMLAO0UZYDJRc7R%2BlFfnH8Rv%2BKs079nz4RL839p/tweONaliH8cWm%2BLvEEzg%2Bq/vBn8K8rPNcpqw/mSj/AOBSjH/25nicR65JXh/OlD/wOUIflJnsP/BQmOL4q/tQfs0fsl2kYe11D4gS%2BMNbt0HyrZ6LbmVEkH9yR5CoHQlB7V9d18jfCD/i9n/BX34p/Ehv3un/AAj%2BHeleENPY8x/bL92v53X/AG1UeUx7A49K%2BuaWWfvauIxH802l/hppQX485%2Bucc/8ACfl%2BT5MtPYYWNSa/6eYuUsTK/mqbw69LegUUUV6x%2BfBRRRQAUUUUAFFFFABRRRQAUUUUAFFFFABRRRQAUUUUAFFFFABRRRQAUUUUAFFFFABRRRQAUUUUAFFFFABRRRQAV4z%2By/8A8lv/AGjv%2ByzWP/qFeF69mrxn9l//AJLf%2B0d/2Wax/wDUK8L0AezUUUUAFFFFABRRRQAUUUUAFFFFABRRRQAUUUUAFFFFABRRRQAUUUUAFFeRft9fELxp8KP2KPin8SPh5rMmmazovgbUbqy1eGMM%2BmlYG3XihgVJgXdMNwK5j5BGRXlPw68Y%2BOfgRpv7TPgz4T%2BJ/EXjXT/hroVrq3glPFXiS8166j1SXQTdyacbu7lluJkLpbXAjeRiv9oELtQxqoB9Z1%2Bfn/BV/wAZXXwv/wCCkf7F3xSh3LBpmt%2BJbPUrgdILS%2BufD9jK7H%2B7icA/WvUf%2BCZ3j7WLmfUfhz8QbPxLL4qu/h74Y8ZXetav8W77xVb6pZ6mL5IbgJcBIdKuGltLhpLSzjFqAYvJeRUxH4j/AMFkoPGXxa8S6joafCPxHoE3gf4I%2BL9e8P8AibUrjTnttTaz8QeDbmSa0W2u5p0CRQuG%2B0RQH94NobDY83OOf%2By60obxXMv%2B3Wpf%2B2v7zyM/9osmryp/FGPMvWDjP8eRr5ntnwd/4kn/AAWP%2BMml/d/tz4UeHtRx/e8mV7fP64r60r4l8YePrPwv/wAFA/2df2w9LYR6B8c/hxJ4Q1aVW/dxzSRpqenH3aSRzGD1wpr7arHJ5xtXgulST%2BU%2BWcX81I/VuO5RxtDJ8zpO9OvgcOk/71BVKE16pwh8pRfUKKKK9g%2BACiiigAooooAKKKKACiiigAooooAKKKKACiiigAooooAKKKKACiiigAooooAKKKKACiiigAooooAKKKKACiiigArxnxx/ykL%2BF/8A2Rnx5/6dvCFezV4z44/5SF/C/wD7Iz48/wDTt4QoA9mooooAKKKKACiiigAr84fhHJH4v/b7%2BCPhaRx5Pg/xv8c/Ed0pPygT%2BLdXs0dvoynB9a/R6vyv/Z08VeV%2B13%2B0N8UDJ%2B6%2BGHwy%2BJtvnPEU83j3xDfb/ZvLTH0rxs7moUKaezqQ%2B6PNN/8ApB5uPws8xxWCwEPirYihBfOon%2BaR9Nf8EcYJvGf7O3ir9qLUoz9s%2BMPxP13xNukHzx232prWGH2VBbttHYPX1tXz/wD8ErPCv/CHf8E6/hBpHlbPO8GW99jH/P0Wuc/j52fxr6ArbJqbp5TQT3cU36yXM/vcmfpPiXi4YzxBzWdP4I16kILtClL2NNf9uwoxXy8wooor0z4gKKKKACiiigAooooAKKKKACiiigAooooAKKKKACiiigAooooAKKKKACiiigAooooAKKKKACiiigAooooAKKKKACvGf2X/APkt/wC0d/2Wax/9QrwvXs1eM/sv/wDJb/2jv%2ByzWP8A6hXhegD2aiiigAooooAKKKKACiiigAooooAKKKKACiiigAooooAKKKKACiiigCK9srPUrOXTtRtIri3uImjngmjDpIjDDKyngggkEHgg1ynw5/Z5%2BAPwe0%2Bw0n4R/A7wf4WtdLluZNMtvDnhm1sY7R7gKLholhjURmUIm8rgvsXdnArsKKAOW%2BF/wN%2BCnwQttQsvgv8AB/wt4Qh1a8N3qsXhfw/baet5cEYM0ogRRI%2BP4myfevJP2jfAlh8Uf2u/Cfwy1Xb9l8Rfs9/EjTLncMjy7jUPCcTZ/BzX0JXjPjj/AJSF/C//ALIz48/9O3hCpnGM4uMtnp9%2Bn6kzhGpBwkrppp%2BjVn%2BDPi%2BwtfFfxm/4IMeFfHeiIU8bfA66j1bTlcZayu/D9/JGc45yLJHPHqK/Rf4U/EXQvi98L/DnxW8MSbtO8S6HaapYndn91PCsqg%2B4DAH3r5a/4J26BpGkfEX9qb9kPxHZpNp%2BmfFm71QafJ91dN1y1EyQ4/uFUkx/vGtX/gj/AK/q%2Bifs569%2BzB4tvXl1v4L%2BPNV8JXLzffmtY5zNazY/uNFLtU9xFXy%2BTylRrUVL7dNwf%2BOhJx%2B9w/I%2Br4anLOvBeFKTvVyyul5%2ByxF6M/lHE4aEvJ1fM%2Br6KKK%2BqPlgooooAKKKKACiiigAooooAKKKKACiiigAooooAKKKKACiiigAooooAKKKKACiiigAooooAKKKKACiiigAooooAK8Z8cf8pC/hf/2Rnx5/6dvCFezV4z44/wCUhfwv/wCyM%2BPP/Tt4QoA9mooooAKKK8Q/b%2B8SeItC%2BCejaRonivUtAtPEnxL8K%2BH9f1zR9Qks7qz06%2B1q0trgRXMTK9s8yyfZhMjK8f2jcjI4VgAe30V8Q%2BI/iZ8RvCv/AAT5%2BM2jeGvi7r5l8MfFW%2B8HeAvFWoa9cT31xDJrNraQ2kupSSGdAlxcy6c1%2BztNbpEZmZ5ISx8x03xx%2B1ZJqFn%2ByVG%2Bt3N3P%2B0Tq2h65oyfHXWUg0%2B3g8H22tWukxeLWhbVpoJPNN6ziFLkSh7TattGXYA/Syvx3%2BE1zN4W%2BC//AAUo%2BK9zIdl18Q/EXhuzdjwgfWtXjkQfVr1c1%2Bl37OnxrsPHn7HHhL40/Db4deKtYhufCltLp/hqXXYb7VrgoojMRvb%2B6SO6kyp/0ma4AmA8wuS%2BT%2BbB0jVL3/gl5%2B0l/aPhu%2B0TU/i1%2B2r4is/7M1F4GurPd4rRTbSNbySRM6NbTIxjkkQndtdlwx%2Be4kUvqXOvsqo/n7KUV%2BMz6PgPLoZn4ocPUp/CsZSlL0j7zfyUW/kfqV%2BzP4V/4QX9nD4f%2BCPK2f2N4I0qx2Y%2B75VnFHj/AMdrt6bDDFbwpbwRhERQqKo4AHAFOr3qVNUqUYLZJL7kl%2Bh42OxU8djquKnvUnOb9ZylJ/jJhRRRVnKFFFFABRRRQAUUUUAFFFFABRRRQAUUUUAFFFFABRRRQAUUUUAFFFFABRRRQAUUUUAFFFFABRRRQAUUUUAFFFFABXjP7L//ACW/9o7/ALLNY/8AqFeF69mrxn9l/wD5Lf8AtHf9lmsf/UK8L0AezUUUUAFFFFABRRRQAUUUUAFFFFABRRRQAUUUUAFFFFABRRRQAUUUUAFFFFABXjPjj/lIX8L/APsjPjz/ANO3hCvZq8Z8cf8AKQv4X/8AZGfHn/p28IUAeR%2BKNSP7LH/BW%2Bz8a%2BJYfI8K/tCeELbQodTDYSLxHpxPkQy9h5tuwSPuztgD5SarePdXm/YS/wCCk0nxh8RxLF8NP2iIdP0bWNVHyxaL4ntI2jtGl7LHcRbl3cZfczYCZPs/7ev7Ly/tb/s0638MdKvPsPiS0aPVvBOrq%2Bx9P1m2JktZVfqmWzGzDkJK2Oa4L4Na74C/4Kt/8E%2Brnwb8aNG%2Bzapf2s2geOtO8oLcaJ4gtCFkkVT/AKuRJVS4RT0V1BzyK%2BYr4arTxM6FN2lzOtSb25tqkH5O/wD4DO/2T0fD/PcFwxxPictzNOWBx0JxqW%2BJQnKDqOHepQrRp4imvtJSg9JNr6hor5f/AOCc37R3jbW7DXP2Nf2ltVjX4t/CiVdP1R5pcN4h0sAfZNWh3fNIskZQO3JDFWbaZAtfUFe7g8XTxuHjWhpfdPdNaOL807p/5NHXxJkGN4Yzmrl%2BJak42cZx1hUpySlTqwfWFSDjOL7Np2lGSRRRRXUeGFFFFABRRRQAUUUUAFFFFABRRRQAUUUUAFFFFABRRRQAUUUUAFFFFABRRRQAUUUUAFFFFABRRRQAUUUUAFeM%2BOP%2BUhfwv/7Iz48/9O3hCvZq8Z8cf8pC/hf/ANkZ8ef%2BnbwhQB7NRRRQAVm%2BMfBng/4ieFr/AMD/ABA8KabruiapbNb6no%2BsWMd1a3kLDDRyxSApIhHVWBBrSooA47Tf2dv2ftG8It4A0j4F%2BDrTQX0I6I%2BiW3hi0jtG0wu7mxMKxhDblpJG8nGzLscZJqi/7KP7LcvwpX4Dy/s1%2BAG8DrdfaV8GN4OsTpIn37/NFp5Xk795LbtucnOc139FAFbR9H0jw9pFroGgaXbWNhY2yW9lZWcCxQ28KKFSNEUBUVVAAUAAAACvzk%2BK2jabc/B34OfDLSrRYz4o/b%2B8T3mpoCT50UHjTxDJOTk%2BgT2GK/SSvzl0X/iqP2pv2afh4vzRp%2B0B8b9cul7J9k8RawYmP1diB715OdpSy9w/mlCP/gVSC/JH3/hglDjKlif%2BfFLFVfT2eExMvzkvnY/RqiiivWPgAooooAKKKKACiiigAooooAKKKKACiiigAooooAKKKKACiiigAooooAKKKKACiiigAooooAKKKKACiiigAooooAKKKKACvGf2X/8Akt/7R3/ZZrH/ANQrwvXs1eM/sv8A/Jb/ANo7/ss1j/6hXhegD2aiiigAooooAKKKKACiiigAooooAKKKKACiiigAooooAKKKKACiiigDyL9vr4heNPhR%2BxR8U/iR8PNZk0zWdF8DajdWWrwxhn00rA268UMCpMC7phuBXMfIIyK86%2BBvjnUv2fta/aE8KeHb/wAefEXwt8M7TTtX0DTZ9avvEutS3UujC7udJtp7mSa5upH2W88cLO7BtQCrtjMaL9O3tlZ6lZy6dqNpFcW9xE0c8E0YdJEYYZWU8EEEgg8EGuU%2BHP7PPwB%2BD2n2Gk/CP4HeD/C1rpctzJplt4c8M2tjHZvcBBcNEsMaiMyhE3lcF9i7s4FAHzL/AMEo/jb49%2BKPj747aJ8T/Gnj3WNZs/G2l6hNB4u8I67pVnpBvNC0%2BaXT9Pi1a1gMFtFO0yxwhVkaPZPIpNx5knod/wCNPEniH/gpt4L8O6t8I/EOhWek/B7xwlhr2q3OnPaa0G1bwll7Zba7lnQJtGftEUB%2BcbQ3zY940rwr4X0LVtT17RPDdhZ32t3MdxrN7a2aRy38yQpCkkzqAZXWKOOMMxJCRqo4UAeUeOP%2BUhfwv/7Iz48/9O3hCgD2aviz4%2B6J8SP%2BCcX7RniT9t34Y%2BFZ/EXwk8eS28vxl8LaZCWu9EuowU/ty1QHDqQSZ14J5YnBDRfadMuLeC7ge1uoElilQpJHIoZXUjBBB4II7Vx43BrF01yy5Zxd4yXR7bdU1pJdU%2Bjs15%2BY4BY6lHllyVIPmhJbxla23VNNqUXo4trR2a%2Bb/wBon9mL4Wft5eBvDH7TP7OfxSi0Dx5pdot98N/in4eYMQpyRb3AA/f2zEsrxOMoWcY5kRqP7LP/AAUHXXfGQ/ZY/bP0e0%2BHfxn05hA2m3cnl6d4mXol5pk7fJKsnXyt28HIG7a23kte/ZX/AGoP2CPGGsfFL/gnraWHin4favfNqPiP4D6tcfZxbzH/AFs2j3JyIGbr5DDZxgB/kRN/R/jN/wAE%2B/8Agqr4Jm%2BCnxZ8OW0XieykeO/%2BH/jWD%2BzvEWh3YHzmBSVlVl4zJCxGMB8ZK14SqVYYvmjaliH8UZX9nVt1jL%2Bbs176Wk4ySTPtOHeP8sxmX0%2BG%2BMaUuSF/Y1IW9rRbd5ewlO0a1CTfNLCzlGUW3Km6c7up9X0V8bWfww/4KV/sOxmz%2BCHiez/aB%2BHNof8ARPCvjPUhZeKNPgHSKC/I8q6CgHHmjd0VEFdd8LP%2BCs/7JXjDXl%2BHvxd1rVPhJ4zjIW78KfFHTn0qWJumVnk/cOpP3TvBYYO0Zr1Keb4eMlTxSdGfaeif%2BGfwS%2B9P%2B6e3i/DrOatGWLyOccxw61csPeVSK/6e4dr6xSa63p1IJ7VWrN/TdFQaZqmma3p8OraNqMF3aXEYe3ubWZZI5VPRlZSQwPqKnr1U01dHwMoyhJxkrNBRRRQIKKKKACiiigAooooAKKKKACiiigAooooAKKKKACiiigAooooAKKKKACiiigAooooAKKKKACvGfHH/ACkL%2BF//AGRnx5/6dvCFezV4z44/5SF/C/8A7Iz48/8ATt4QoA9mooooAKKKKACiiigAr83/ANly/tNZ/wCCl/h/T76cLD4O0z4t62xIJ8s3XxG1my6DnJwAAOTmv0gr80P%2BCcH/ABVv/BQ348eIMbv%2BER8Q6zoe7%2B59q%2BI2sXu38cZryc1954en3qw/8l55foj9A4B/cwzjF/8APvAYj76roUF/6ckvmfo1/wAJhpP/AD6ap/4I7v8A%2BNUv/CYaT/z6ar/4I7v/AONV87ePv%2BCyP/BN74X%2BO9a%2BGnjn9o37Drfh3VrnTNYsv%2BEQ1iX7PdW8rRSx747Rkfa6MNykqcZBI5rJ/wCH5f8AwS0/6Oh/8snW/wD5CqpZ5ksJOMsTTTX9%2BP8AmZ0fC3xMxFGNWlkmLlGSTTWHqtNNJppqFmmmmn1TT6n0/wD8JhpP/Ppqv/gju/8A41R/wmGk/wDPpqv/AII7v/41Xzt4B/4LI/8ABN74oeO9F%2BGngb9o37drfiLVrbTNHsv%2BEQ1iL7RdXEqxRR75LRUTc7qNzEKM5JA5rvv2/vjB8TP2ff2Jvin8cfg3aabN4n8JeB9Q1XR11eZkt1lghaTe%2B2OTdtUMwTbh2UIWQMXXrwuNweNi5YepGaW/K07etj5/POGeJOGK0KWcYKrhpTTcVVpzpuSTs2lNJtJ6Nrroel/8JhpP/Ppqv/gju/8A41R/wmGk/wDPpqv/AII7v/41Xz3qf7bnxt8K/EPxz4L%2BIXwK8CaFp/wy%2BHlp4m8c%2BJ7v4qXRsbd7uLVGt7a2xo4lnUPp8YlldIiiXBaOOZ0EUnM/Db/gpVq/xV1TwzoerfCfV/C%2BtxfGiXwd4h0hZby2hkQ%2BD9Q1%2BGfbrGj2l68LpDEm37PaSCVAyyyQqVuOk8M%2Bqv8AhMNJ/wCfTVf/AAR3f/xqj/hMNJ/59NV/8Ed3/wDGq%2Bef2Sv2%2BfiT%2B0Pp%2BiXHjn9mD/hH7vxZ8JtF%2BIPhPS/D3jWHVZ7rTr5gjwTm4gsore4hLxMVDyI6PkOGUx11P7Vfiz4q6l8Wvhf%2Bzx8LfivqHgRvG11rF1q3ivRtNsbq9it7CyEi20C39vcW6tJNNCzM8TnyoJVXazCRAD13/hMNJ/59NV/8Ed3/APGqP%2BEw0n/n01X/AMEd3/8AGq%2BcoP2hP2kfif8A8EyPCHx/%2BH1pc/8ACc67pHh2bxDd%2BFdDW9uLe0lv7SLWNQ06ykWQTypZm8ubeArLuZY12TnEb8D4V/aX%2BIPjX9mX4heN/Gf7VXxL8FQ/Cz4jX/h7TvER%2BH%2BkQ%2BIvGHmWljcabDLpt5pjILmSS/S2S2gtreaZ1jUrE7MlAH2X/wAJhpP/AD6ar/4I7v8A%2BNUf8JhpP/Ppqv8A4I7v/wCNV8OftA/tV/t2/Aiw0P4i/F208U6Nd6V4E8FXs3hfwV4Hh1Hw/r%2BtXN2YvEVnf6i1tM1gIVMa24Fxa5LqyG7YmFet%2BDH7WnxJ%2BKf7T%2Bs6b428a/EXwvoupfEzxP4A8BWUPhrQ28MXN/pUN4NrzOj6pJeMlhd3yyForIqgtxukRg4B9a/8JhpP/Ppqn/gju/8A41V%2Bwv7TU7RL6xnEkUgyrAEd8EYPIIOQQeQRXgP7G/jb4qeIfi58T/B%2Bo/HDWviZ4E8LyaZp2i%2BNvEOk6bbTyeIEa9XWbCJ9NtbWC4trYLpy%2BYIiyXEl3C0jtCyx%2B3%2BD/wDkEzf9hS%2B/9K5aANWiiigAooooAKKKKACiiigAooooAKKKKACiiigAooooAKKKKACiiigAooooAK8Z/Zf/AOS3/tHf9lmsf/UK8L17NXjP7L//ACW/9o7/ALLNY/8AqFeF6APZqKKKACiiigAooooAKKKKACiiigAooooAKKKKACiiigAooooAKKKKACiiigArxnxx/wApC/hf/wBkZ8ef%2BnbwhXs1eM%2BOP%2BUhfwv/AOyM%2BPP/AE7eEKAPZqKKKACvJP2lP2GP2WP2tbZX%2BN/wj0/UNThUCy8RWga11O0K8oY7qErKApwQpJTI5U163RWVehQxNN060VKL6NJr8TDEYbDYyi6VeCnF7qSTX3P/AIfzPj%2BH9lL/AIKSfs0qY/2U/wBsvT/iB4etzm08G/HDT3uJ4ox/AuqW2JnOOFDBUXA7ZrA%2BJn7W3jq88PN4I/4KMf8ABJXxTqGlx5E2qeFdMtPF%2Blj/AKb4XD2y988uvHevt%2BivMnlHLFxoVpRj/LK1SHpyzu7eSkcGGy/G5XXjXyrGVaE4u8bSclF/3eZqcf8At2qj8vPBNn/wSJ1nVpb39kL/AIKC%2BMf2ftbeYtPo0Pim80qyScnlZ7XVF8txn%2BBZAuenpXung6L/AIKq%2BHdOGpfBD9rj4IfHnRohkTeINMbTryWPsEk013hLdtznB6nmvqb4i/Az4KfF%2B3Nr8WPhB4Y8TRldpTxBoNveDH/bVGxXhHi//gjX/wAE5vFd%2Bdas/wBnuLw/qIJMV/4V1y%2B014T6qkEyxj/vivM/sbHYd3oKK/69zqUv/Jf3lP8A8lR92vE3xLlFQzVYTM4r/oKoqU7f9fXH2v8A5Xf4IyB%2B3f8AtwfDgeX8e/8Agln40eKLiTUfhp4ls9fEw/vJbpskX/dY5qS3/wCC0X7F%2BjzpZ/GODx/8N7lm2m28d/D2/tmRv7rGGOVQfxx71H/w6kuvCvz/AAZ/4KC/tC%2BF1X/U2EnjwX9lH6Ygmi/m1NuP2O/%2BCmvh2B7bwf8A8FSodZsyu0aZ4x%2BEOnThx6POj72/Kjm4kobKUvVUp/jGVKX4D/114YxP/Ix4VlB9ZYTGuK%2BUK6rR%2BV/I9P8ABP8AwUe/YK%2BIYQeGP2u/ADPJ/q4L/wASQWcrewjuGRifbGa9W8NeOPBXjS3%2B1%2BDvGGl6tFjPm6ZqEc649coxFfCfjX9hP/goBrxd/FXwd/Yy8f5zvufEvw8vLS7f3WSCM7WPrmvKvEv/AATO%2BMj3H27XP%2BCR/wAI9SuUOUufAXxl1LRWB9UEkoUfiDR/bGd0v4mGv/27UX5e0Qv7W8J8R8Uc0wr/AL2Gw2IivnSrUpP7r%2BR%2BqtFfkt/wyt%2B1f4L40X9if9pfwSqfdb4eftWWN2q/7qvCxx7E0DWv2/8AwRxpd5%2B29p%2Bzp9r8OaX4nx%2BbR7/60f6zVYfxMLNel/8A26mg5fDCt/Cz%2BVPyr5djqf3umq0fuTP1por8lv8AhtD/AIKR%2BD/%2BPr4y/H0IvSHxr%2Bx7Z24X2MlrdMzfXFH/AA9x/bz8J/8AH/8AEHwLPs6/8Jj8FvEtln/e%2ByK%2BPwo/1vy6P8SnOPyT/VB/ZfB9T%2BBxNl7/AMc8TR/9PYGNj9aaK/JmP/gv38eNAcQ%2BKdQ%2BBl7J3jstO8WWRb6faLIgfia19P8A%2BDi3xrBj7V%2Bzv4D1j1/s/wCKZsc/%2BBdmMfjVLjPIHvUa/wC3X%2BjZUeHMFW/3fOssqemY4WP/AKcdH8bH6n0V%2Bamlf8HFGkyKG179lSxtv732P4yaPPj/AL6CVsQf8HGf7PNqu7xF8CPEsOPvf2d4l0a7/LF2ua3jxZw9L/l%2Bl6qS/Q0jwbmlV2o18JU/wY/AS/LGRP0Tor8/9I/4OOf2ItUfypfhb8VIWBwzLoFhKmfYx3zZ/Kun0z/gvr%2BwjfgG4sPiFZg9TceDHOP%2B/btW0OJuH5/DiYfe/wD5E0lwHxZHbDp/4a%2BFl/6RjJH2zRXyBaf8F0v%2BCcsozqPxP1%2BwHf7X4I1Lj/viBq07D/gt1/wS%2B1A7Y/2ooY27rceE9Xix/wB9WgFbLPskltiaf/ga/WwlwDxvL4MurS/ww5v/AEicz6sor5tsP%2BCv3/BNjUcfZ/2s/Dy5/wCe9vdRf%2Bhwitmx/wCCon/BPLUMeR%2B2D4FXP/PfWki/9DxW0c2yqW2Ih/4HH/5ImXAXHMVd5Vif/BFZ/lTZ7zRXjtl/wUN/YMv8eR%2B2b8Llz/z28dWEf/ocorWs/wBtT9jfUcf2f%2B1p8M589PJ8eac38pq1jj8DLatB/wDb8f8A5I4qnCfFdH%2BJl%2BIXrQrr/wBwnplFcPaftN/s26hj7B%2B0H4Hnz08nxZZt/KStS0%2BMnwhv8fYPip4bnz08nXLdv5PWqxGHltNP5r/M4KmUZvR/iYapH1p1F%2BdNHSUVnWni/wAJ3%2BPsPijTps9PKvY2/kavxyxTLvikVh6qcitVKL2ZxTpVabtOLXqmvzSHUUUUyAooooAK8Z8cf8pC/hf/ANkZ8ef%2BnbwhXs1eM%2BOP%2BUhfwv8A%2ByM%2BPP8A07eEKAPZqKKKACvIf21/iR4%2B%2BHnwn0iy%2BGXiVtC1jxZ4/wDDvhiHxElpDO%2Bkxahqdvbz3Mcc6PE0wheQReYjxiVoy6OoKN69XO/Fj4T%2BAfjf4Cvfhn8TdDbUNHv3gkmhivZraWOWGZJ4J4Z4HSWCaKaKOWOWJ1kjkjR0ZWUEAHzJrf7SP7QHhL9iL4t38HxG/tbxz8PviBd%2BENB8V3emWiXets1/axWmyCOFbQ6i8d7Haxjykt3vFQtGkbMi%2BO/En/gpV8Uvgh%2BzL4/8AfE74/xeCfic3jnWdF8I6r8Xm8P2er%2BHbC00Ow1OSW%2BFmBpN7ekXifZEtBNG41GwEquYrsL9mWv7F37OVp8Kb34Jf8IXqE/hjUreRL/Tr3xVqdwbiaS9e%2Be9eWW4aVr43Tmc3xb7V5gVvNyi41PAv7L/AMFPhz8N/EXwo8N%2BGb19I8XS3MvimTV/EV/qN9q8txbpbSy3N9dzyXU0hgjihDvKWSOKNFKqigAFH4KfHrw/4s/ZK8JftDah4kl8TWmoeDLDUr7U/Cely6s97I8CGVoLfTo5HmbzC3yQo2CCAoxx8T/8EXxY%2BK/ir%2B1p8Y9Mtb6K21/9pC4t7VdT0yeyuEjh1%2B/lCSW9wiTQOBcjdHIiup4ZQQQP0X8L%2BGtE8F%2BGdO8HeGrL7Npuk2ENnp9t5jP5UESBI03OSzYVQMkknHJJr4z/AOCUPhdtG8BftC%2BIJk%2BfWv20fHEyOR1jj8SCED6Bo3/M1wYun7TFYd/yyk//ACSS/U%2BtyDGrB5BnEb61aNKn9%2BKpTf8A6bR9tUV8xeP/APgpr/wgXjvW/Av/AA75/ae1r%2BxdXubD%2B2NA%2BE/2mwv/ACZWj8%2B2l%2B0jzYX270fA3KynAzWR/wAPYf8ArGp%2B1p/4Zv8A%2B6qylnWWRk4upqv7s/8A5WfnMuIcmhJxlV1Wnw1Omn/Po%2BtKxfiP8PPBnxc%2BH2ufCr4jaDFqvh/xLpFzpeuaZOzKl1aXETRTREoQwDIzDKkEZyCDzXz54B/4Ka/8J7470XwL/wAO%2Bf2ntF/trV7aw/tjX/hP9msLDzpVj8%2B5l%2B0nyoU3b3fB2qrHBxXs37SfjD4nfDz4BeL/AIg/Bnw5aaz4n0HQLnUtH0W9hd01KSBDKbUBHQh5VRo0bdhXdWIYAqevDYzDYyLlRldLfSS/9KjH9TtwePweYRcsPLmS0ekl5/ajH8LmNB%2Bxr%2BzwvhXxT4O1PwhqWr2fjXw3b6D4ql8ReK9T1O61Kwg%2B0%2BTHJc3dzJPvT7XPiUOJRuX5/kTbneB/2Cv2Wvh7qS654f8AAWpTakPFw8US6trXjHVtSvLjVxpE2jC7muLy6llnYafPLb4kZl2lTjciMvhviP8A4KP/ABN%2BJHha58Y/suNoeq2HiPx3NpHwoli8JLqjeINOsNIW61W9ka51vSraGOK78%2BAO1wu0WbgJK0g8vifBv7dXxG%2BLniPRPjxZfabXTvHnwy/Z31WPwo2v3v2HSp/EXi7Xba/kg%2BzTxbnMXkozHKTrawrMksS%2BUek7D7D8MfsnfAjwTY6JYeDvCd7pS%2BHPA1p4O0SbTvEeoQzWmi2rxvBarKk4c7TFHmQsZGAIZ2DMDo/G/wDZ6%2BFP7ROiafofxS0fUZhpGom%2B0i/0TxFfaRfWNwYZYGeG8sJobiLdDNNE4SQB0kZWBUkV8m/BP9qn9qD43ftSfCDxhqfirwj/AGJ47%2BFvj/W/Dnw90q6vdPa1ks7/AEaC2g1aUzXCXUsfmlGuEtojbSPcIsUmcn279t/VvEk%2BmfCj4by%2BKtV8O6R47%2BK9hofjPUvDeu3Gn3UNmdPv7pIIb23aKe38%2B9tbO18yNo5GW4KqVLigD0KT9nf4WJ4DHww0ax1jRdAi8OWGhWWmeGfFeo6VHp9jZkm3S0%2Bx3ERs3UHaZYCkroiIzssaKvF%2BJf8Agnr%2Byr4r8KeE/B2o%2BEvElvbeCdeu9c8O3ekfEfXrC%2Bi1S6WVbi/mvLa9jubu5kE8waeeSSQ%2BdJ83ztngfhFqP7QvxT/4Jt%2BN9D%2BE/wASbufxpZ6l478OeAfFmsaqWuLi30/XtU0/TLiS8lDlpTa20A%2B1uHLtidt%2B454r9n2z%2BKvxZ0743/As%2BC/H1hYeEvFOjHwT4e8cftCataarDfy6VFPd6fd%2BINJur66SMbkuhCs11tW6TcqqyxRAH0r4g/ZL%2BCni7xB4Y8R%2BLrTxNq0nhC3sItHstV8f6zc2LvZSeba3F1aSXbW9/dRy4lF1dRyz%2BYiOZCyKwr3P7Gf7O138VLv4zyeDtQXX7ua5ud8PirUo7S2u7i0aznvrezW4Fta3r2zvE15DGlwVkceZ87Z%2BXPBHiDx74o/Z1/Zd%2BLms/GzxtP4is/i7H4Y142njK%2Bjs9QVb6/tLq2ulimEerxxtaCKO6uBIZkjE%2BFaU17dfaZqvhf8A4KleH207x94rk0/xb8FPEl7qvh288VXk2kJcWOp%2BHILaaCweU21vIqXNxmSONXfz33McgAA7z9mv9kr4J/sjeFR4F%2BBVn4msNEjs4LW00jWvH%2Bs6zbWUMO7YltFqN3OtqPnOfKCb/l3btq47bwf/AMgmb/sK33/pXLWpWX4P/wCQTN/2Fb7/ANK5aANSiiigAooooAKKKKACiiigAooooAKKKKACiiigAooooAKKKKACiiigAooooAK8Z/Zf/wCS3/tHf9lmsf8A1CvC9ezV4z%2By/wD8lv8A2jv%2ByzWP/qFeF6APZqKKKACiiigAooooAKKKKACiiigAooooAKKKKACiiigAooooAKKKKACiiigArxnxx/ykL%2BF//ZGfHn/p28IV7NXzh%2B0fq/xr0f8Abw%2BE8/wO%2BH/hbxFqTfCPx2t3aeK/GFzosEcH9qeEiXSW30%2B9Z33bRsMajBJ35AUgH0fRXjP/AAnH/BQv/o1/4M/%2BH41b/wCZej/hOP8AgoX/ANGv/Bn/AMPxq3/zL0AezUV4z/wnH/BQv/o1/wCDP/h%2BNW/%2BZej/AITj/goX/wBGv/Bn/wAPxq3/AMy9AHs1FfOOk/tHft26x8Z9f%2BB1v%2Byh8JF1Tw74X0jXby5f466p5EkGo3OpW8KIR4Y3F1bS5ywKgAPHgsSwXqP%2BE4/4KF/9Gv8AwZ/8Pxq3/wAy9AHs1FeM/wDCcf8ABQv/AKNf%2BDP/AIfjVv8A5l6P%2BE4/4KF/9Gv/AAZ/8Pxq3/zL0AezUV4z/wAJx/wUL/6Nf%2BDP/h%2BNW/8AmXrl/AP7R37dvxE8V%2BN/CGj/ALKHwkhuPAfiiLQtVkufjrqgSeeTStP1MPFt8MElPJ1GFSWCnejjGAGYA%2BjqK8Z/4Tj/AIKF/wDRr/wZ/wDD8at/8y9H/Ccf8FC/%2BjX/AIM/%2BH41b/5l6APZqK8Z/wCE4/4KF/8ARr/wZ/8AD8at/wDMvR/wnH/BQv8A6Nf%2BDP8A4fjVv/mXoA9mor5x%2BEX7R37dvxl8KXfi/wAOfsofCS2t7PxRrehSR3vx11RXM%2Bl6rdaZO42%2BGGGxprSRkOclGUkKcqOo/wCE4/4KF/8ARr/wZ/8AD8at/wDMvQB7JLDFPGYp4ldT1V1yDWRqHw5%2BHurZ/tXwJo1znr9o0uJ8/mteZf8ACcf8FC/%2BjX/gz/4fjVv/AJl6P%2BE4/wCChf8A0a/8Gf8Aw/Grf/MvUyjGW6uTKEJ/Ek/VHZX37N/7O%2BqZ/tP4C%2BC7nPXz/C1o%2BfzjrHvf2LP2ONSBGo/smfDO4z18/wAB6e%2BfzhrF/wCE4/4KF/8ARr/wZ/8AD8at/wDMvXL/AAR/aO/bt%2BPHwY8IfHHwr%2Byh8JLXS/GfhfT9d0221D466os8MF3bR3EaSBPDDKHCyAMFZhkHBI5rGWEwsvipxf8A27H/AOROeWCwU/ipRfrGL/8AbTrLz/gnn%2BwZfZ8/9jD4WjP/ADx8B2Ef/oMQrMu/%2BCYv/BPa9z537HXgBc/88vD0Uf8A6CBV/wD4Tj/goX/0a/8ABn/w/Grf/MvR/wAJx/wUL/6Nf%2BDP/h%2BNW/8AmXrJ5bl0t6MP/AI//ImMspymW%2BHp/wDgEP8A5A566/4JNf8ABOO8z5v7InhIZ/55W8if%2BguKzrn/AII6f8E0bv8A1v7JuhjP/PO/vU/9BnFdl/wnH/BQv/o1/wCDP/h%2BNW/%2BZeuX%2BN37R37dvwH%2BDHi/44%2BKv2UPhJdaX4M8L6hrupW2n/HXVGnmgtLaS4kSMP4YVS5WMhQzKMkZIHNZvKMpe%2BHh/wCAR/yMnkORy3wtP/wXD/5Exrn/AIIof8EwLr/W/srWQz/zz8Saqn/oN0KpTf8ABDL/AIJbzEsv7MRjJ7x%2BNNaH/t5ivTv%2BE4/4KF/9Gv8AwZ/8Pxq3/wAy9H/Ccf8ABQv/AKNf%2BDP/AIfjVv8A5l6h5Hkr3w1P/wAAj/kZPhzh5/8AMHS/8Fx/yPJbj/gg/wD8Ewp%2BE%2BAd9H/ueM9VP/oVyapT/wDBAv8A4Jmy/wCr%2BEOsxf7ni%2B//AKymvZ/%2BE4/4KF/9Gv8AwZ/8Pxq3/wAy9H/Ccf8ABQv/AKNf%2BDP/AIfjVv8A5l6h8P5E/wDmFp/%2BAo1hkeT0/goRXorflJHh03/Bv1/wTZl%2B58P/ABHH/ueLLn%2BpNVZv%2BDev/gnJL9zw34uj/wBzxVJ/VTXqfxd/aO/bt%2BDXhS08X%2BI/2UPhJc2954o0TQo47L466ozifVNVtdMgc7vDCjYs13GznOQisQGOFPUf8Jx/wUL/AOjX/gz/AOH41b/5l6h8OZA/%2BYWH/gKOiOX4SHwxa9J1F%2BVVHz3L/wAG7v8AwTuk%2B5aeN0/3fE4/rEagf/g3U/4J%2BZ3W%2Bp/EGA%2BsXiaLP625r6L/AOE4/wCChf8A0a/8Gf8Aw/Grf/MvR/wnH/BQv/o1/wCDP/h%2BNW/%2BZep/1Z4ef/MLD7v%2BCbRoKPwzmvSrXX5V0fOqf8G8n7E8H/Hj8TfixbY6eR4ttxj/AMlKnh/4IBfssWv/AB4ftDfG%2B3x08jxvbL/7Z19B/wDCcf8ABQv/AKNf%2BDP/AIfjVv8A5l65fx9%2B0d%2B3b8O/FfgjwhrH7KHwkmuPHniiXQtKktvjrqhSCePStQ1MvLu8MAhPJ06ZQVDHe6DGCWUXDWQLbDR/H/5IJYdS3nU/8HV//mg8wt/%2BCFHwJs/%2BPH9rz9oWDHTyfiFbrj/ySq/b/wDBFb4eWQxYft3ftMwenlfE%2BJf5Wde0f8Jx/wAFC/8Ao1/4M/8Ah%2BNW/wDmXo/4Tj/goX/0a/8ABn/w/Grf/MvVrh7JVtQX3y/%2BTOeeWYSp8XO/%2B4tf/wCXnkMX/BH2wtf%2BPH/go1%2B1JD6bPiqB/K2FN%2BBX7JV3%2By1/wUL8Gi5/ac%2BKnxGXXPgz4y2D4m%2BLDqn9neTq3hbP2bKL5XmeaN/Xd5Uf92vYP%2BE4/wCChf8A0a/8Gf8Aw/Grf/MvVDwP4H/as8Y/tWeHPjd8bvhx8PfDOjeGfh74h0OGHwr8Q77Wrq7utSvtEuEZkuNIsUijRNLlBYO7FpUAXGSOihlOXYWqqlKFpLzn%2BTm1%2BBNHKsDh6yq04vmXVzqP8JVJL8Ge60UUV6J6IUUUUAFFFFABXzl%2BxD4Z07wt%2Bzx4svbHzCL39obx/qd87DOD/wAJ5qm9uB0VIx%2BC19G18lfsleLP2ztP%2BHviiz%2BGPwD%2BGGr6Enxp%2BIv9n6jr3xd1HTbuZf8AhM9ZLGS2i0C5SIhtwAEz5AByCdoTSbT7FxqVIwlBPSVr%2Bdndfc9T6g/4TnwT/wBDhpf/AIMI/wD4ql/4TnwT/wBDhpX/AIMI/wD4qvLf%2BE4/4KF/9Gv/AAZ/8Pxq3/zL0f8ACcf8FC/%2BjX/gz/4fjVv/AJl6ZB6l/wAJz4J/6HDSv/BhH/8AFUf8Jz4J/wChw0r/AMGEf/xVeW/8Jx/wUL/6Nf8Agz/4fjVv/mXo/wCE4/4KF/8ARr/wZ/8AD8at/wDMvQBqX3wM/Yo1T4caT8HdT%2BDvwtuPCOgXv2zQvCs/h7TX03TbndI3nQWxTyoZN0sp3ooOZHOfmOdDT/hx%2ByjpNra2WleA/h7bQ2VppNpZQ2%2Bl2KLbwaXPJcaZEgCgIlpPLLLbqMCCSR3jCsxJ8z%2BCP7R37dvx4%2BDHhD44%2BFf2UPhJa6X4z8L6frum22ofHXVFnhgu7aO4jSQJ4YZQ4WQBgrMMg4JHNdR/wnH/AAUL/wCjX/gz/wCH41b/AOZegDVsfgf%2BxVpfinW/HOmfCD4XW%2Bt%2BJYLqHxHrEHh/TUutVjusfaUuZQm%2BdZdq%2BYHJD4G7OK6DxvpXwA%2BJngi5%2BGXxI03wd4g8N3kKRXfh7XIbS7sZ40ZWRHglDRsqsqkArgFQR0FcV/wnH/BQv/o1/wCDP/h%2BNW/%2BZej/AITj/goX/wBGv/Bn/wAPxq3/AMy9AHVDwT%2BzCPD1v4RHhHwGNJtPDc/h610v7BZfZ4dInEazacke3atrIIYg8AHlsIkBU7RjDuv2fP2GL74W2vwOvfgh8J5vBVlfm%2Bs/B8vhrTG0uC6O/M6Whj8lJP3j/OFDfO3PJrifjd%2B0d%2B3b8B/gx4v%2BOPir9lD4SXWl%2BDPC%2Boa7qVtp/wAddUaeaC0tpLiRIw/hhVLlYyFDMoyRkgc11H/Ccf8ABQv/AKNf%2BDP/AIfjVv8A5l6ALPxH/Zt/YL%2BMWiaB4Z%2BLnwD%2BEPirTfCls1t4W0/xH4W0u%2Bg0eEhAY7WOaNlt0IjjBWMKMRr/AHRi3qfwM/Yo1r4w237Q2s/B74W3fj%2By2fY/HNz4e02TWINiCNNl6yGddqAKMOMKABxWX/wnH/BQv/o1/wCDP/h%2BNW/%2BZej/AITj/goX/wBGv/Bn/wAPxq3/AMy9AHqP/Cc%2BCf8AocNL/wDBhH/8VR4MO/QzOoOya%2Bu5YiRjcj3MjK30KkEexry7/hOP%2BChf/Rr/AMGf/D8at/8AMvXL/F39o79u34NeFLTxf4j/AGUPhJc2954o0TQo47L466ozifVNVtdMgc7vDCjYs13GznOQisQGOFIB9HUV4z/wnH/BQv8A6Nf%2BDP8A4fjVv/mXo/4Tj/goX/0a/wDBn/w/Grf/ADL0AezUV4z/AMJx/wAFC/8Ao1/4M/8Ah%2BNW/wDmXo/4Tj/goX/0a/8ABn/w/Grf/MvQB7NRXzj4%2B/aO/bt%2BHfivwR4Q1j9lD4STXHjzxRLoWlSW3x11QpBPHpWoamXl3eGAQnk6dMoKhjvdBjBLL1H/AAnH/BQv/o1/4M/%2BH41b/wCZegD2aivGf%2BE4/wCChf8A0a/8Gf8Aw/Grf/MvR/wnH/BQv/o1/wCDP/h%2BNW/%2BZegD2aivGf8AhOP%2BChf/AEa/8Gf/AA/Grf8AzL1y%2BrftHft26P8AGfQPgdcfsofCRtU8ReF9X12zuU%2BOuqeRHBp1zptvMjk%2BGNwdm1SAqApBCSZKkKGAPo6ivGf%2BE4/4KF/9Gv8AwZ/8Pxq3/wAy9H/Ccf8ABQv/AKNf%2BDP/AIfjVv8A5l6APZqK8Z/4Tj/goX/0a/8ABn/w/Grf/MvR/wAJx/wUL/6Nf%2BDP/h%2BNW/8AmXoA9mor5x0n9o79u3WPjPr/AMDrf9lD4SLqnh3wvpGu3ly/x11TyJINRudSt4UQjwxuLq2lzlgVAAePBYlgvUf8Jx/wUL/6Nf8Agz/4fjVv/mXoA9morxn/AITj/goX/wBGv/Bn/wAPxq3/AMy9H/Ccf8FC/wDo1/4M/wDh%2BNW/%2BZegD2aivGf%2BE4/4KF/9Gv8AwZ/8Pxq3/wAy9cv4B/aO/bt%2BInivxv4Q0f8AZQ%2BEkNx4D8URaFqslz8ddUCTzyaVp%2Bph4tvhgkp5OowqSwU70cYwAzAH0dRXjP8AwnH/AAUL/wCjX/gz/wCH41b/AOZej/hOP%2BChf/Rr/wAGf/D8at/8y9AHs1eM/sv/APJb/wBo7/ss1j/6hXhej/hOP%2BChf/Rr/wAGf/D8at/8y9W/2Vvhz8afB%2BsfFDx38dNA8L6Tqnj74hRa5Z6V4T8S3OrW9raxaDo%2BmKr3FxZWbNI0mnSuVEW0LIg3Mc4APW6KKKACiiigAooooAKKKKACiiigAooooAKKKKACiiigAooooAKKKKACiiigAr5X/ae/a0%2BLnww%2BMfizWvAPh3wfJ4Y%2BD/h/w/e%2BNTrWkXE2q6pb6vfypcwWFxHcRpZeRbWcdxmSKcXMhSMiHy/NP1RXjPxn/Yh%2BHHxu%2BKR%2BJmueOfFWlxaja6Ra%2BL/DWjXVqmneKYNLvZL2xivllt5Jgsc00ufs8sBljkMUxljCoAD2aiiigAooooA%2BY/Dn7SvxMh/b/wDFHwf%2BI2seHvCfhtfEFpongyLUfhFrKXXjGAaBBqOIPEbXa6c0sd3c6gBaCF5PLtJgFBZpF%2BnK8r8WfstQeP8A4yaR8U/Hvxv8a6vpXh7XY9a0DwBcHTItGsdQjt3gjnDQ2SXsuzzJJFSa6kjEj7tnyIF9UoAKKKKAPF/%2BCgvxd%2BOH7P37I/jT49fAK98KR6x4J0K71y6g8YaLc31td2lrbSzPboltdWzJK7IiiQuVQFiUfgV5/wCPP2tPi54L%2BPHi3U/Cnh3whF8PPCHxj8I/D7xlZzaRcHW9V1XXYNFSPUIbtLhYY44P7c0mMxSW8ryJDPiWPagr2H9rH9nGy/a0%2BBGvfs%2B618VfFPhHSfE9lLY65f8AhBdO%2B13NlLE8U1tuv7S6jRHV%2BWRFkBUbXXnPFwfsA%2BDp/iLZ/EXxV8cfH2usdZ0nXPE2jahLpUVj4n1zTEjSx1a9jtrCJluIhBaYW2aCBjY2xeJjHkgHvdFFFABXi/7ZPxd%2BOHwStfAPjH4WXvhT%2BxtQ%2BJnhzw94vsfEGi3NzdXNrqus2Omg2csN1CltJGtzLJvkSdSURdnJNe0V5V%2B1d%2By2/wC1V4b0LwvP8ffG/ga30LxJYa6jeC4dHZ7u9sbyC8s2lOpafeDbFcW8bhYwgblZN6naADzj9nn9pX4ma3%2B1V4t%2BCPxQ1fw94T06HxTrdv4J8JSfCLWdMudetoXSU39vrVxd/YNQdjJNLLFbQF%2BS7FcMT9OV5LpP7KIf4yaL8ZfiP%2B0B478azeF7u8u/CeheIRpMNho91c28lrJcRLYafbSyv9nmnhXz5JVRZ32gEgj1qgAooooA8P8A27vi58eP2fvg1q/x1%2BFHjHwLY6f4W0W5vL3RfFnhm9v7nxDe5RbPTLOS2vYPs81xKRbo3lXTNLPEFhY/K3n/AMEf2vvjPrnxL8Ff2t4M8JaR8NPG/wAT/FHw28K%2BGtO0uaPV9Ev9Ah1bfPPci4a3mgkbw/qaLDHbxGNWtj5kmWA9P/aV/ZBg/aS8eeCPiBN%2B0D478IXPgG7ub3RbHwxFo09nJeyoI1vJoNT068R54Y/MWGQBTGJ5SPmbIq%2BA/wBhr4e%2BA/jLb/F2H4i%2BLtSg07XdT17RPCGpXNl/ZOla3qMbx6hqkCRWqT%2BfOJ7ssrzPCjX1yY4o/M4APa6KKKACvl/9rn48ftL/AAW%2BImn%2BFNKh8AeNdH8cw61baL8OYvB99JrCWtpod1dyX9xOL14rq2F1Fb20kItYgft8KCYyMiSfUFeHTfsTXEf7R/iv9prRP2q/iXp2r%2BLdNh0650uGDw/PaafZwwNHDbWbXOky3NvEsrvdbFm2vO5dw4O2gBn7CH7Qfjf49/D28uviv4%2B0a%2B8XacLNtf8ADdl8LtX8I3mgPPbLKILmy1e6nuHBbf5dwAkciodobaTXuleb/A79m7Tvgz4n8SfEPWPil4p8ceKvFcVjb6x4n8XNYLcvaWYm%2By2qRafa2ttHFG1zcuNsIZmuJCzNkY9IoAKKKKAPjn/goJ%2B3H8VP2MPHP9p65ougeMfCL6NqOt2/hWX4c6nZS26abo19qSSf8JFNdPpk939r00bLFYEuhHMsoG2FpG9e/Zo%2BLvxz1b4qeN/2ev2jrnwpqHifwjpOh61HrXgrSLmwsbmx1QXkaRGC5ubl1liuNOu1L%2BbiRDE2yMkqK3x1/YS8EftOa1dWvx/%2BLfjXxR4LuZLiRfhleSabDosUk1jNZM2%2B3so76QCO4mYJLdOgd9235EC9P%2Bz5%2BzNpHwDvNe8RXfxQ8WeOPEfiQ2cereKvGtxZvfS21pEYrW1H2O2t4ViiDysMR72eeV3Z2cmgD0qiiigAr4j/AGp/2yv2s/g38avEHwo8HeG/DnjXU7DRbjXfDAT4H%2BII5NFA1HTLVDC325x4mkFjqlx539l%2BU8LQlZRGJhHX25Xh%2BvfsW6n4l8en4na1%2B1z8UZtb0%2BC8i8G3hTQAPCq3U0Mk/wBkjGk7J2aOBbfderdMsTOFKu7OQDqv2WPiw/xk%2BEcHiy9%2BJmjeKr%2BHUbqy1S%2B0bwZfeHRbXEUrK1rNpuoXE91ZzxjCvHM4fPzbVDAV6NXDfAP4C%2BHvgB4Z1PRtK8U634g1HX9euNb8SeJPEc0DXuq38wRGnlFvFDAmI4oYlSGKONUiQBRgk9zQAUUUUAFFFFABRRRQAUUUUAUfFHiGw8JeGtR8V6qHNrpljNd3IiXLeXGhdsDucKa%2Bc/2Jv2k/jX4/8U6P4M%2BNnh7wZZjx18LbL4jeGYfBmlXFoNMjvLgm70%2B7M1xKLuaN7m2f7YggE7SzEwR7QX%2Blru0tb%2B1lsb23SaGaNo5opVDK6kYKkHggjjFeQ/szfsV%2BAv2YNVfV9A%2BIPi3xLLbeGLHwz4dHiy9tZhoGhWbyPb6bam3t4S0amT5pZzNcSCOLzJn8tcAHsVFFFABXC/tQePPiL8LP2aPiJ8Tvg/4UXXvFvhzwLq%2BqeFtDaxmuhqOo29nLLbWxhgZZZhJKiJ5cbB23YUgkGu6rO8W6Jf8AiXwxqHh/S/Feo6Fc3tpJDb61pCwNdWLspAmiFxFLEXU8gSRumR8ysMggHl37FPxan%2BKHwzvrLVviF4f1nU/Duqrp15pmifDDU/Bz6GgtoJIrO40rVLme5hcI4kV28tHili2Jgb39irzz4D/s7aT8DrzxL4jufiJ4k8Y%2BJPF%2Bow3niLxT4rezF3dGG3S3giEdjbW1tFFHGgCrHCmSzsxZmZj6HQAUUUUAfLn7VH7WPxQ/Zw%2BL3jiy%2BJWjeEvEXwvsP2d/F/j220K30S4TVXbRBpaz21xcyXL280U6304CC2QqETLvlhXb/sz/ABf%2BPmqfFzxl%2Bzr%2B0s/hK88UeGPDHh7xLHqvgrSbmxspLLVn1K3W2MNzc3LmWG40i7BlEgWRHiby4zuWoPjH%2Bwr4d%2BOnx1b4y%2BPPjt45l02bwVqfhG%2B%2BHsMGi/2Jd6NqS232%2B0kL6a16RO1pA7OLoOpQhGRGZD0n7O/7Luh/s%2B32teI5/ih4t8b%2BIdftbCyv/E/ja5tJL02Fiki2dmPsltbx%2BVEZ7hwShkd7mV3d2bNAHp9FFFABXyJ8a/2l/wBrbwZrv7QHgS38K%2BDPFl74C8P%2BFPEnw2sdJ%2BH%2Bp386x6jqupQhLy1ivHl1GeBdNjnU2wtyXJCr8qtX13Xhcv7FHiGL46eNvj/oX7aHxW0rVvG%2BkWOmXNjZWfhhrTTbayuLmezS2EuivJ%2B6N5dKDM8pdZyJPMKoVAOr/ZU%2BLc3xl%2BFI8Taj8TtG8U6ja6rc2OrXWj%2BCL/w2bO4ib5rWfTNRuJ7q0nRSu5JmDEMrbVVhXpNcJ8A/gHoHwB0LWbHT/FuueI9V8TeIJdc8T%2BJvEktu17qt/JDDB5sgtoYYIwsFvbwqkUUaKkKALnJPd0AFFFFAHxt%2B0t%2B13%2B0t%2Bzx8ZoPhtrKfDPxrfa3BBN4Rh07wte2kvgu81LxDpnh7SJtTle%2BmF1FO2rzgtEtnI4sbpYwy%2BYYvcf2Vfi/8SPiMPH/w%2B%2BMR0SfxV8NPHjeGtZ1Xw1p01nYan5ml6dq1vcQ28088lvm11S3R42mlxJHJhiCMcLbf8E1fCTXXxDfxD%2B0v8TtZt/iTrx1zWLfUjoXmWepRXEM%2Bn3NtdRaWl0psHt7cWkbzSRRLCgZH5z6x8A/gLofwD8Patptl4v1zxJq3iLXpta8T%2BKPEr2xv9XvpI4ofOmFrBBAuyCC3gRIoo0WOCNQvBJAO6ooooAZc/afs0n2PZ52w%2BV5udu7HGcc4zXxB8Vv2uf20/hp8RNc%2BG1vbeA/GeveGL3w1b6t468EfBXX9Wj8OW%2BrNePe2EulWepT3dzNHDZWN0TFOn7u6haWBAYmk%2B3ruGS4tZbeG6kgeSNlWeIKXjJGAy7gVyOoyCPUGvnv4MfsBeIPgJ8Nrj4afDv8Abq%2BMUUd1qz6nNrN5ZeE59Qlu5XlkuZ5pn0I/aZJ3l3SSTiR8xpsKAYIB6z8BPiHZfFb4O%2BH/AIhWHxA0bxUmp6eJH1/w/pM1haXcgJWQpazzTS2xV1ZGhkkd42VlY7lIHX1yXwL%2BC/hL9n34X6d8KfBVzf3FlYS3VxNfarcia6vru6uZbq6upnCqGlmuJ5pX2qq7pDtVVwo62gAqj4nh8SXPhvULfwbqdjZavJZSrpd5qdg91bQXBQiOSWGOWJpo1bBZFkjLAEB1J3C9Wb4x0G/8UeFr/wAO6X4t1LQbm8tXig1rRxAbqxcjiaIXEUsRdTyBJG6HHzKwyKAPh74b/t2fta/GD4p638EvhZpvw%2BTxnptrrt9J4z8V/C7WtDXVNM0i10WVLGXRLy%2BTUNPle78Q7EmnmePyoZLhIXWdAfsb4BfFrTfj58CfBXx10bTZbOz8a%2BEtN160s5n3PBFeWsdwsbEAZKiQAn1FeLav/wAEyPA%2Bta5ffEW7/aU%2BKafEDVkvLXWviTbXukQ6tf6ZdW1rbTaYUTTRZw2xSytGHkW0UqyQLKsocsx%2Bg/Bfg/w18PPB2k%2BAPBmkxafo%2Bh6ZBp%2Bk2EOdltbQxrHFGuecKiqo%2BlAGnRRRQBy/xp1Hxxo3wt1rW/hz4hsdL1awszdQ32oeD73xAiRxkPKBp1jPBc3kjRK6pFDIHLsuFc/I3xb8Jf8Agoj8fvEnjTQ9T8b3HhHwJ4M1KedfEHji8%2BBniKa21i/h1%2B60hEuZVvo08MzyWtpa/uNUaSWB5VjfOwJX238TPBmu%2BPfCU3hzw38Utf8ABt5JLG8Wv%2BGYrF7uDawJVVv7a5gYMAVIeJuCcYOCPFbr/gnN4U1DwfcfDbVv2kPibd%2BGNc1Ca/8AHmgTXGjiLxhdz3jXVxNfSrpouIvNLLC0dnLaxCGJI1RRu3AH0TRRRQAUUUUAFFFFABRRRQAUUUUAFFFFABRRRQAUUUUAFFFFABRRRQAUUUUAFFFFABRRRQAUUUUAFFFFABRRRQAUUUUAFFFFABRRRQAUUUUAFFFFABRRRQAUUUUAFFFFABRRRQAUUUUAFFFFABRRRQAUUUUAFFFFABRRRQAUUUUAFFFFABRRRQAUUUUAFFFFABRRRQAUUUUAFFFFABRRRQAUUUUAFFFFABRRRQAUUUUAFFFFABRRRQAUUUUAFFFFABRRRQAUUUUAFFFFABRRRQAUUUUAFFFFABRRRQAUUUUAFFFFABRRRQAUUUUAFFFFABRRRQB//9k%3D\">"
      ]
     },
     "metadata": {},
     "output_type": "display_data"
    }
   ],
   "source": [
    "s.run(tf.global_variables_initializer())\n",
    "\n",
    "BATCH_SIZE = 512\n",
    "EPOCHS = 40\n",
    "\n",
    "# Logging the progress right here in Jupyter (Also examine in TensorBoard)\n",
    "simpleTrainingCurves = matplotlib_utils.SimpleTrainingCurves(\"cross-entropy\", \"accuracy\")\n",
    "\n",
    "# Finish an epoch when we've looked at all training samples\n",
    "for epoch in range(EPOCHS):\n",
    "    \n",
    "    batch_losses = []\n",
    "    # Note: Data is already shuffled\n",
    "    for batch_start in range(0, X_train_flat.shape[0], BATCH_SIZE):\n",
    "        _, batch_loss = s.run([step, loss], {input_X: X_train_flat[batch_start:batch_start+BATCH_SIZE], \n",
    "                                             input_y: y_train_oh[batch_start:batch_start+BATCH_SIZE]})\n",
    "        # Collect batch losses, this is almost free as we need a forward pass for backprop anyway\n",
    "        batch_losses.append(batch_loss)\n",
    "\n",
    "    train_loss = np.mean(batch_losses)\n",
    "    # This part is usually small\n",
    "    val_loss = s.run(loss, {input_X: X_val_flat, input_y: y_val_oh})\n",
    "    # This is slow and usually skipped\n",
    "    train_accuracy = accuracy_score(y_train, s.run(classes, {input_X: X_train_flat}))\n",
    "    \n",
    "    valid_accuracy = accuracy_score(y_val, s.run(classes, {input_X: X_val_flat}))  \n",
    "    simpleTrainingCurves.add(train_loss, val_loss, train_accuracy, valid_accuracy)"
   ]
  },
  {
   "cell_type": "markdown",
   "metadata": {},
   "source": [
    "# Adding more layers"
   ]
  },
  {
   "cell_type": "markdown",
   "metadata": {},
   "source": [
    "Add a few hidden layers and see how that improves validation accuracy.\n",
    "\n",
    "Previously we've coded a dense layer with matrix multiplication by hand. This is quite inconvenient as we have to create a lot of variables and the code becomes a mess.\n",
    "\n",
    "In TensorFlow there's an easier way to make a dense layer:\n",
    "```python\n",
    "hidden1 = tf.layers.dense(inputs, 256, activation=tf.nn.sigmoid)\n",
    "```\n",
    "\n",
    "This will create all the necessary variables automatically.\n",
    "Here we can also choose an activation function for the hidden layer.\n",
    "\n",
    "Add 2 hidden layers aiming for ~0.97 validation accuracy here."
   ]
  },
  {
   "cell_type": "code",
   "execution_count": 11,
   "metadata": {},
   "outputs": [
    {
     "name": "stdout",
     "output_type": "stream",
     "text": [
      "WARNING:tensorflow:From <ipython-input-11-0f01a98ca61d>:1: dense (from tensorflow.python.layers.core) is deprecated and will be removed in a future version.\n",
      "Instructions for updating:\n",
      "Use keras.layers.dense instead.\n"
     ]
    }
   ],
   "source": [
    "hidden1 = tf.layers.dense(input_X, 256, activation=tf.nn.sigmoid)\n",
    "hidden2 = tf.layers.dense(hidden1, 256, activation=tf.nn.sigmoid)\n",
    "\n",
    "# Compute predictions\n",
    "logits = tf.layers.dense(hidden2, 10)\n",
    "probas = tf.nn.softmax(logits)\n",
    "# Apply tf.argmax to find a class index with highest probability\n",
    "classes = tf.argmax(probas, axis=1)\n",
    "\n",
    "loss = tf.reduce_mean(tf.nn.softmax_cross_entropy_with_logits(logits=logits, labels=input_y))\n",
    "step = tf.train.AdamOptimizer().minimize(loss)"
   ]
  }
 ],
 "metadata": {
  "kernelspec": {
   "display_name": "Python 3",
   "language": "python",
   "name": "python3"
  },
  "language_info": {
   "codemirror_mode": {
    "name": "ipython",
    "version": 3
   },
   "file_extension": ".py",
   "mimetype": "text/x-python",
   "name": "python",
   "nbconvert_exporter": "python",
   "pygments_lexer": "ipython3",
   "version": "3.5.2"
  }
 },
 "nbformat": 4,
 "nbformat_minor": 1
}
